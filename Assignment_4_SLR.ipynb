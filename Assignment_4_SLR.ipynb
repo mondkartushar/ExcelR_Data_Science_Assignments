{
 "cells": [
  {
   "cell_type": "markdown",
   "id": "c1e2ca6b",
   "metadata": {},
   "source": [
    "### ASSIGNMENT 4\n",
    "### Topic - Simple LInear Regression\n",
    "### By Tushar N. Mondkar (Batch of 27 March,Andheri)\n",
    "### Mentor - Jayantilal Sir"
   ]
  },
  {
   "cell_type": "markdown",
   "id": "b08982af",
   "metadata": {},
   "source": [
    "### Q 1) Predict delivery time using sorting time "
   ]
  },
  {
   "cell_type": "code",
   "execution_count": 1,
   "id": "4d5a35f8",
   "metadata": {
    "ExecuteTime": {
     "end_time": "2023-01-16T13:59:07.665265Z",
     "start_time": "2023-01-16T13:59:05.041748Z"
    }
   },
   "outputs": [],
   "source": [
    "import pandas as pd\n",
    "import seaborn as sns\n",
    "import numpy as np\n",
    "\n",
    "import warnings\n",
    "warnings.filterwarnings(\"ignore\")"
   ]
  },
  {
   "cell_type": "code",
   "execution_count": 2,
   "id": "eda25a77",
   "metadata": {
    "ExecuteTime": {
     "end_time": "2023-01-16T13:59:07.696243Z",
     "start_time": "2023-01-16T13:59:07.668909Z"
    }
   },
   "outputs": [
    {
     "data": {
      "text/html": [
       "<div>\n",
       "<style scoped>\n",
       "    .dataframe tbody tr th:only-of-type {\n",
       "        vertical-align: middle;\n",
       "    }\n",
       "\n",
       "    .dataframe tbody tr th {\n",
       "        vertical-align: top;\n",
       "    }\n",
       "\n",
       "    .dataframe thead th {\n",
       "        text-align: right;\n",
       "    }\n",
       "</style>\n",
       "<table border=\"1\" class=\"dataframe\">\n",
       "  <thead>\n",
       "    <tr style=\"text-align: right;\">\n",
       "      <th></th>\n",
       "      <th>DeliveryTime</th>\n",
       "      <th>SortingTime</th>\n",
       "    </tr>\n",
       "  </thead>\n",
       "  <tbody>\n",
       "    <tr>\n",
       "      <th>0</th>\n",
       "      <td>21.00</td>\n",
       "      <td>10</td>\n",
       "    </tr>\n",
       "    <tr>\n",
       "      <th>1</th>\n",
       "      <td>13.50</td>\n",
       "      <td>4</td>\n",
       "    </tr>\n",
       "    <tr>\n",
       "      <th>2</th>\n",
       "      <td>19.75</td>\n",
       "      <td>6</td>\n",
       "    </tr>\n",
       "    <tr>\n",
       "      <th>3</th>\n",
       "      <td>24.00</td>\n",
       "      <td>9</td>\n",
       "    </tr>\n",
       "    <tr>\n",
       "      <th>4</th>\n",
       "      <td>29.00</td>\n",
       "      <td>10</td>\n",
       "    </tr>\n",
       "  </tbody>\n",
       "</table>\n",
       "</div>"
      ],
      "text/plain": [
       "   DeliveryTime  SortingTime\n",
       "0         21.00           10\n",
       "1         13.50            4\n",
       "2         19.75            6\n",
       "3         24.00            9\n",
       "4         29.00           10"
      ]
     },
     "execution_count": 2,
     "metadata": {},
     "output_type": "execute_result"
    }
   ],
   "source": [
    "data = pd.read_csv(\"delivery_time.csv\")  #Remove space from column names \n",
    "data.head()"
   ]
  },
  {
   "cell_type": "code",
   "execution_count": 3,
   "id": "9499090e",
   "metadata": {
    "ExecuteTime": {
     "end_time": "2023-01-16T13:59:07.727487Z",
     "start_time": "2023-01-16T13:59:07.699244Z"
    }
   },
   "outputs": [
    {
     "data": {
      "text/html": [
       "<div>\n",
       "<style scoped>\n",
       "    .dataframe tbody tr th:only-of-type {\n",
       "        vertical-align: middle;\n",
       "    }\n",
       "\n",
       "    .dataframe tbody tr th {\n",
       "        vertical-align: top;\n",
       "    }\n",
       "\n",
       "    .dataframe thead th {\n",
       "        text-align: right;\n",
       "    }\n",
       "</style>\n",
       "<table border=\"1\" class=\"dataframe\">\n",
       "  <thead>\n",
       "    <tr style=\"text-align: right;\">\n",
       "      <th></th>\n",
       "      <th>DeliveryTime</th>\n",
       "      <th>SortingTime</th>\n",
       "    </tr>\n",
       "  </thead>\n",
       "  <tbody>\n",
       "    <tr>\n",
       "      <th>count</th>\n",
       "      <td>21.000000</td>\n",
       "      <td>21.000000</td>\n",
       "    </tr>\n",
       "    <tr>\n",
       "      <th>mean</th>\n",
       "      <td>16.790952</td>\n",
       "      <td>6.190476</td>\n",
       "    </tr>\n",
       "    <tr>\n",
       "      <th>std</th>\n",
       "      <td>5.074901</td>\n",
       "      <td>2.542028</td>\n",
       "    </tr>\n",
       "    <tr>\n",
       "      <th>min</th>\n",
       "      <td>8.000000</td>\n",
       "      <td>2.000000</td>\n",
       "    </tr>\n",
       "    <tr>\n",
       "      <th>25%</th>\n",
       "      <td>13.500000</td>\n",
       "      <td>4.000000</td>\n",
       "    </tr>\n",
       "    <tr>\n",
       "      <th>50%</th>\n",
       "      <td>17.830000</td>\n",
       "      <td>6.000000</td>\n",
       "    </tr>\n",
       "    <tr>\n",
       "      <th>75%</th>\n",
       "      <td>19.750000</td>\n",
       "      <td>8.000000</td>\n",
       "    </tr>\n",
       "    <tr>\n",
       "      <th>max</th>\n",
       "      <td>29.000000</td>\n",
       "      <td>10.000000</td>\n",
       "    </tr>\n",
       "  </tbody>\n",
       "</table>\n",
       "</div>"
      ],
      "text/plain": [
       "       DeliveryTime  SortingTime\n",
       "count     21.000000    21.000000\n",
       "mean      16.790952     6.190476\n",
       "std        5.074901     2.542028\n",
       "min        8.000000     2.000000\n",
       "25%       13.500000     4.000000\n",
       "50%       17.830000     6.000000\n",
       "75%       19.750000     8.000000\n",
       "max       29.000000    10.000000"
      ]
     },
     "execution_count": 3,
     "metadata": {},
     "output_type": "execute_result"
    }
   ],
   "source": [
    "data.describe()"
   ]
  },
  {
   "cell_type": "code",
   "execution_count": 4,
   "id": "987f43ee",
   "metadata": {
    "ExecuteTime": {
     "end_time": "2023-01-16T13:59:07.742812Z",
     "start_time": "2023-01-16T13:59:07.731754Z"
    }
   },
   "outputs": [
    {
     "data": {
      "text/html": [
       "<div>\n",
       "<style scoped>\n",
       "    .dataframe tbody tr th:only-of-type {\n",
       "        vertical-align: middle;\n",
       "    }\n",
       "\n",
       "    .dataframe tbody tr th {\n",
       "        vertical-align: top;\n",
       "    }\n",
       "\n",
       "    .dataframe thead th {\n",
       "        text-align: right;\n",
       "    }\n",
       "</style>\n",
       "<table border=\"1\" class=\"dataframe\">\n",
       "  <thead>\n",
       "    <tr style=\"text-align: right;\">\n",
       "      <th></th>\n",
       "      <th>DeliveryTime</th>\n",
       "      <th>SortingTime</th>\n",
       "    </tr>\n",
       "  </thead>\n",
       "  <tbody>\n",
       "    <tr>\n",
       "      <th>DeliveryTime</th>\n",
       "      <td>1.000000</td>\n",
       "      <td>0.825997</td>\n",
       "    </tr>\n",
       "    <tr>\n",
       "      <th>SortingTime</th>\n",
       "      <td>0.825997</td>\n",
       "      <td>1.000000</td>\n",
       "    </tr>\n",
       "  </tbody>\n",
       "</table>\n",
       "</div>"
      ],
      "text/plain": [
       "              DeliveryTime  SortingTime\n",
       "DeliveryTime      1.000000     0.825997\n",
       "SortingTime       0.825997     1.000000"
      ]
     },
     "execution_count": 4,
     "metadata": {},
     "output_type": "execute_result"
    }
   ],
   "source": [
    "data.corr()    #Correlation matrix"
   ]
  },
  {
   "cell_type": "code",
   "execution_count": 5,
   "id": "4716c031",
   "metadata": {
    "ExecuteTime": {
     "end_time": "2023-01-16T13:59:08.725358Z",
     "start_time": "2023-01-16T13:59:08.529384Z"
    }
   },
   "outputs": [
    {
     "data": {
      "image/png": "[encoded data removed]",
      "text/plain": [
       "<Figure size 432x288 with 1 Axes>"
      ]
     },
     "metadata": {
      "needs_background": "light"
     },
     "output_type": "display_data"
    }
   ],
   "source": [
    "sns.distplot(data[\"DeliveryTime\"]);"
   ]
  },
  {
   "cell_type": "code",
   "execution_count": 6,
   "id": "18fea5a3",
   "metadata": {
    "ExecuteTime": {
     "end_time": "2023-01-16T13:59:10.159263Z",
     "start_time": "2023-01-16T13:59:10.040006Z"
    }
   },
   "outputs": [
    {
     "data": {
      "image/png": "[encoded data removed]",
      "text/plain": [
       "<Figure size 432x288 with 1 Axes>"
      ]
     },
     "metadata": {
      "needs_background": "light"
     },
     "output_type": "display_data"
    }
   ],
   "source": [
    "sns.distplot(data[\"SortingTime\"]);"
   ]
  },
  {
   "cell_type": "code",
   "execution_count": 7,
   "id": "397d4b19",
   "metadata": {
    "ExecuteTime": {
     "end_time": "2023-01-16T13:59:11.458222Z",
     "start_time": "2023-01-16T13:59:11.216373Z"
    }
   },
   "outputs": [],
   "source": [
    "#1 importing necessary library\n",
    "import statsmodels.formula.api as smf \n",
    "\n",
    "#2 Creating input and output variable\n",
    "model = smf.ols(\"DeliveryTime~SortingTime\",data=data).fit()"
   ]
  },
  {
   "cell_type": "code",
   "execution_count": 8,
   "id": "a56bec4e",
   "metadata": {
    "ExecuteTime": {
     "end_time": "2023-01-16T13:59:12.988369Z",
     "start_time": "2023-01-16T13:59:12.819202Z"
    }
   },
   "outputs": [
    {
     "data": {
      "image/png": "[encoded data removed]",
      "text/plain": [
       "<Figure size 432x288 with 1 Axes>"
      ]
     },
     "metadata": {
      "needs_background": "light"
     },
     "output_type": "display_data"
    }
   ],
   "source": [
    "sns.regplot(y = \"DeliveryTime\",x = \"SortingTime\",data=data);   "
   ]
  },
  {
   "cell_type": "code",
   "execution_count": 9,
   "id": "486fee6f",
   "metadata": {
    "ExecuteTime": {
     "end_time": "2023-01-16T13:59:16.670492Z",
     "start_time": "2023-01-16T13:59:16.661095Z"
    }
   },
   "outputs": [
    {
     "data": {
      "text/plain": [
       "Intercept      6.582734\n",
       "SortingTime    1.649020\n",
       "dtype: float64"
      ]
     },
     "execution_count": 9,
     "metadata": {},
     "output_type": "execute_result"
    }
   ],
   "source": [
    "model.params    #Parameters of linear regression equation"
   ]
  },
  {
   "cell_type": "code",
   "execution_count": 10,
   "id": "810c5e13",
   "metadata": {
    "ExecuteTime": {
     "end_time": "2023-01-16T13:59:17.522418Z",
     "start_time": "2023-01-16T13:59:17.498996Z"
    }
   },
   "outputs": [
    {
     "name": "stdout",
     "output_type": "stream",
     "text": [
      "Intercept      3.823349\n",
      "SortingTime    6.387447\n",
      "dtype: float64 \n",
      "\n",
      " Intercept      0.001147\n",
      "SortingTime    0.000004\n",
      "dtype: float64\n"
     ]
    }
   ],
   "source": [
    "print(model.tvalues,\"\\n\\n\",model.pvalues)"
   ]
  },
  {
   "cell_type": "markdown",
   "id": "54e8188c",
   "metadata": {},
   "source": [
    "### as pvalue is less than 0.05 (alpha) ..The null hypothesis is rejected i.e B!= 0\n",
    "### There is relation between Sorting Time and Delivery Time"
   ]
  },
  {
   "cell_type": "code",
   "execution_count": 11,
   "id": "5464a154",
   "metadata": {
    "ExecuteTime": {
     "end_time": "2023-01-16T13:59:21.692804Z",
     "start_time": "2023-01-16T13:59:21.673934Z"
    }
   },
   "outputs": [
    {
     "data": {
      "text/plain": [
       "(0.6822714748417231, 0.6655489208860244)"
      ]
     },
     "execution_count": 11,
     "metadata": {},
     "output_type": "execute_result"
    }
   ],
   "source": [
    "(model.rsquared,model.rsquared_adj)"
   ]
  },
  {
   "cell_type": "code",
   "execution_count": 12,
   "id": "35e02da9",
   "metadata": {
    "ExecuteTime": {
     "end_time": "2023-01-16T13:59:24.449304Z",
     "start_time": "2023-01-16T13:59:24.442627Z"
    }
   },
   "outputs": [],
   "source": [
    "#4 Prediction\n",
    "ndata = pd.Series([5,6,3,8])\n",
    "df = pd.DataFrame(ndata,columns =[\"SortingTime\"])\n"
   ]
  },
  {
   "cell_type": "code",
   "execution_count": 13,
   "id": "afc0cbf4",
   "metadata": {
    "ExecuteTime": {
     "end_time": "2023-01-16T13:59:26.404479Z",
     "start_time": "2023-01-16T13:59:26.391812Z"
    }
   },
   "outputs": [
    {
     "data": {
      "text/html": [
       "<div>\n",
       "<style scoped>\n",
       "    .dataframe tbody tr th:only-of-type {\n",
       "        vertical-align: middle;\n",
       "    }\n",
       "\n",
       "    .dataframe tbody tr th {\n",
       "        vertical-align: top;\n",
       "    }\n",
       "\n",
       "    .dataframe thead th {\n",
       "        text-align: right;\n",
       "    }\n",
       "</style>\n",
       "<table border=\"1\" class=\"dataframe\">\n",
       "  <thead>\n",
       "    <tr style=\"text-align: right;\">\n",
       "      <th></th>\n",
       "      <th>SortingTime</th>\n",
       "    </tr>\n",
       "  </thead>\n",
       "  <tbody>\n",
       "    <tr>\n",
       "      <th>0</th>\n",
       "      <td>5</td>\n",
       "    </tr>\n",
       "    <tr>\n",
       "      <th>1</th>\n",
       "      <td>6</td>\n",
       "    </tr>\n",
       "    <tr>\n",
       "      <th>2</th>\n",
       "      <td>3</td>\n",
       "    </tr>\n",
       "    <tr>\n",
       "      <th>3</th>\n",
       "      <td>8</td>\n",
       "    </tr>\n",
       "  </tbody>\n",
       "</table>\n",
       "</div>"
      ],
      "text/plain": [
       "   SortingTime\n",
       "0            5\n",
       "1            6\n",
       "2            3\n",
       "3            8"
      ]
     },
     "execution_count": 13,
     "metadata": {},
     "output_type": "execute_result"
    }
   ],
   "source": [
    "df"
   ]
  },
  {
   "cell_type": "code",
   "execution_count": 14,
   "id": "295c4570",
   "metadata": {
    "ExecuteTime": {
     "end_time": "2023-01-16T13:59:31.264073Z",
     "start_time": "2023-01-16T13:59:31.251499Z"
    }
   },
   "outputs": [
    {
     "data": {
      "text/plain": [
       "0    14.827833\n",
       "1    16.476853\n",
       "2    11.529794\n",
       "3    19.774893\n",
       "dtype: float64"
      ]
     },
     "execution_count": 14,
     "metadata": {},
     "output_type": "execute_result"
    }
   ],
   "source": [
    "model.predict(df)"
   ]
  },
  {
   "cell_type": "markdown",
   "id": "372934e5",
   "metadata": {},
   "source": [
    "### Steps to increase R squared value"
   ]
  },
  {
   "cell_type": "code",
   "execution_count": 15,
   "id": "c499a7a7",
   "metadata": {
    "ExecuteTime": {
     "end_time": "2023-01-16T13:59:32.149877Z",
     "start_time": "2023-01-16T13:59:32.079500Z"
    }
   },
   "outputs": [
    {
     "data": {
      "image/png": "[encoded data removed]",
      "text/plain": [
       "<Figure size 432x288 with 1 Axes>"
      ]
     },
     "metadata": {
      "needs_background": "light"
     },
     "output_type": "display_data"
    }
   ],
   "source": [
    "# Step 1 - Checking and removal of outliers\n",
    "\n",
    "sns.boxplot(data[\"DeliveryTime\"]);"
   ]
  },
  {
   "cell_type": "code",
   "execution_count": 16,
   "id": "e4cc0f7f",
   "metadata": {
    "ExecuteTime": {
     "end_time": "2023-01-16T13:59:32.417752Z",
     "start_time": "2023-01-16T13:59:32.326247Z"
    }
   },
   "outputs": [
    {
     "data": {
      "image/png": "[encoded data removed]",
      "text/plain": [
       "<Figure size 432x288 with 1 Axes>"
      ]
     },
     "metadata": {
      "needs_background": "light"
     },
     "output_type": "display_data"
    }
   ],
   "source": [
    "sns.boxplot(data[\"SortingTime\"]);"
   ]
  },
  {
   "cell_type": "code",
   "execution_count": 29,
   "id": "5388f615",
   "metadata": {
    "ExecuteTime": {
     "end_time": "2023-01-16T14:05:57.802495Z",
     "start_time": "2023-01-16T14:05:57.704243Z"
    }
   },
   "outputs": [
    {
     "data": {
      "image/png": "[encoded data removed]",
      "text/plain": [
       "<Figure size 432x288 with 1 Axes>"
      ]
     },
     "metadata": {
      "needs_background": "light"
     },
     "output_type": "display_data"
    }
   ],
   "source": [
    "sns.scatterplot(x = \"SortingTime\",y = \"DeliveryTime\",data = data);"
   ]
  },
  {
   "cell_type": "markdown",
   "id": "43e29114",
   "metadata": {},
   "source": [
    "__ScatterPlot indicates wide spread of data__\n",
    "\n",
    "__Boxplot indicates ABSENCE of outliers hence selecting different models to increase R squared value__"
   ]
  },
  {
   "cell_type": "code",
   "execution_count": 17,
   "id": "cef58834",
   "metadata": {
    "ExecuteTime": {
     "end_time": "2023-01-16T13:59:33.016830Z",
     "start_time": "2023-01-16T13:59:32.912158Z"
    }
   },
   "outputs": [
    {
     "data": {
      "image/png": "[encoded data removed]",
      "text/plain": [
       "<Figure size 432x288 with 1 Axes>"
      ]
     },
     "metadata": {
      "needs_background": "light"
     },
     "output_type": "display_data"
    }
   ],
   "source": [
    "# Step 2 - Transforming Data(Log transformation)\n",
    "\n",
    "data_log = np.log(data)\n",
    "sns.distplot(data[\"DeliveryTime\"]); #Checking the changes in distplot\n"
   ]
  },
  {
   "cell_type": "code",
   "execution_count": 18,
   "id": "126ef814",
   "metadata": {
    "ExecuteTime": {
     "end_time": "2023-01-16T13:59:33.483036Z",
     "start_time": "2023-01-16T13:59:33.463051Z"
    }
   },
   "outputs": [],
   "source": [
    "model_log = smf.ols(\"DeliveryTime~SortingTime\",data=data_log).fit()"
   ]
  },
  {
   "cell_type": "code",
   "execution_count": 19,
   "id": "3bb6fc29",
   "metadata": {
    "ExecuteTime": {
     "end_time": "2023-01-16T13:59:33.733873Z",
     "start_time": "2023-01-16T13:59:33.715431Z"
    }
   },
   "outputs": [
    {
     "data": {
      "text/plain": [
       "(0.77216134926874, 0.7601698413355158)"
      ]
     },
     "execution_count": 19,
     "metadata": {},
     "output_type": "execute_result"
    }
   ],
   "source": [
    "(model_log.rsquared,model_log.rsquared_adj) "
   ]
  },
  {
   "cell_type": "markdown",
   "id": "125c93af",
   "metadata": {},
   "source": [
    "__A significant increase in value of R squared is noted when log transformation is used__"
   ]
  },
  {
   "cell_type": "code",
   "execution_count": 20,
   "id": "53e3cb76",
   "metadata": {
    "ExecuteTime": {
     "end_time": "2023-01-16T13:59:38.665654Z",
     "start_time": "2023-01-16T13:59:38.558400Z"
    }
   },
   "outputs": [
    {
     "data": {
      "image/png": "[encoded data removed]",
      "text/plain": [
       "<Figure size 432x288 with 1 Axes>"
      ]
     },
     "metadata": {
      "needs_background": "light"
     },
     "output_type": "display_data"
    }
   ],
   "source": [
    "# Step 3 - Transforming Data(Square Root transformation)\n",
    "\n",
    "data_sqrt = np.sqrt(data)\n",
    "sns.distplot(data[\"DeliveryTime\"]);\n"
   ]
  },
  {
   "cell_type": "code",
   "execution_count": 21,
   "id": "912210dc",
   "metadata": {
    "ExecuteTime": {
     "end_time": "2023-01-16T13:59:39.763695Z",
     "start_time": "2023-01-16T13:59:39.748222Z"
    }
   },
   "outputs": [],
   "source": [
    "model_sqrt = smf.ols(\"DeliveryTime~SortingTime\",data=data_sqrt).fit()"
   ]
  },
  {
   "cell_type": "code",
   "execution_count": 22,
   "id": "a884b3fc",
   "metadata": {
    "ExecuteTime": {
     "end_time": "2023-01-16T13:59:42.886692Z",
     "start_time": "2023-01-16T13:59:42.875421Z"
    }
   },
   "outputs": [
    {
     "data": {
      "text/plain": [
       "(0.7292011987544664, 0.7149486302678594)"
      ]
     },
     "execution_count": 22,
     "metadata": {},
     "output_type": "execute_result"
    }
   ],
   "source": [
    "(model_sqrt.rsquared,model_sqrt.rsquared_adj) "
   ]
  },
  {
   "cell_type": "markdown",
   "id": "7e63b07b",
   "metadata": {},
   "source": [
    "__Log transformation is giving best R squared value.Hence going forward with log transformation__"
   ]
  },
  {
   "cell_type": "markdown",
   "id": "0d412fb6",
   "metadata": {},
   "source": [
    "### Final analysis"
   ]
  },
  {
   "cell_type": "code",
   "execution_count": 23,
   "id": "1c48b8d7",
   "metadata": {
    "ExecuteTime": {
     "end_time": "2023-01-16T13:59:49.995007Z",
     "start_time": "2023-01-16T13:59:49.986840Z"
    }
   },
   "outputs": [
    {
     "data": {
      "text/plain": [
       "Intercept      1.741987\n",
       "SortingTime    0.597522\n",
       "dtype: float64"
      ]
     },
     "execution_count": 23,
     "metadata": {},
     "output_type": "execute_result"
    }
   ],
   "source": [
    "#Parameters\n",
    "model_log.params"
   ]
  },
  {
   "cell_type": "code",
   "execution_count": 24,
   "id": "79b7c12c",
   "metadata": {
    "ExecuteTime": {
     "end_time": "2023-01-16T13:59:54.730571Z",
     "start_time": "2023-01-16T13:59:54.709354Z"
    }
   },
   "outputs": [
    {
     "name": "stdout",
     "output_type": "stream",
     "text": [
      "Intercept      13.085552\n",
      "SortingTime     8.024484\n",
      "dtype: float64 \n",
      "\n",
      " Intercept      5.921137e-11\n",
      "SortingTime    1.601539e-07\n",
      "dtype: float64\n"
     ]
    }
   ],
   "source": [
    "print(model_log.tvalues,\"\\n\\n\",model_log.pvalues)"
   ]
  },
  {
   "cell_type": "code",
   "execution_count": 25,
   "id": "04865a7b",
   "metadata": {
    "ExecuteTime": {
     "end_time": "2023-01-16T13:59:55.191312Z",
     "start_time": "2023-01-16T13:59:55.181377Z"
    }
   },
   "outputs": [
    {
     "data": {
      "text/plain": [
       "(0.77216134926874, 0.7601698413355158)"
      ]
     },
     "execution_count": 25,
     "metadata": {},
     "output_type": "execute_result"
    }
   ],
   "source": [
    "(model_log.rsquared,model_log.rsquared_adj)"
   ]
  },
  {
   "cell_type": "code",
   "execution_count": 38,
   "id": "2fee5a3e",
   "metadata": {
    "ExecuteTime": {
     "end_time": "2023-01-16T14:11:37.714548Z",
     "start_time": "2023-01-16T14:11:37.701573Z"
    }
   },
   "outputs": [],
   "source": [
    "# Using exponential for reverse transformation\n",
    "ndata2 = np.exp(data_log)"
   ]
  },
  {
   "cell_type": "code",
   "execution_count": 39,
   "id": "6efa58b2",
   "metadata": {
    "ExecuteTime": {
     "end_time": "2023-01-16T14:11:39.465128Z",
     "start_time": "2023-01-16T14:11:39.444410Z"
    }
   },
   "outputs": [],
   "source": [
    "model_log = smf.ols(\"DeliveryTime~SortingTime\",ndata2).fit()"
   ]
  },
  {
   "cell_type": "code",
   "execution_count": 40,
   "id": "dd741097",
   "metadata": {
    "ExecuteTime": {
     "end_time": "2023-01-16T14:11:39.766629Z",
     "start_time": "2023-01-16T14:11:39.746385Z"
    }
   },
   "outputs": [
    {
     "data": {
      "text/plain": [
       "0     9.236729\n",
       "1     9.537381\n",
       "2     8.394367\n",
       "3    10.011774\n",
       "dtype: float64"
      ]
     },
     "execution_count": 40,
     "metadata": {},
     "output_type": "execute_result"
    }
   ],
   "source": [
    "#4 Prediction\n",
    "ndata = pd.Series([5,6,3,8])\n",
    "df = pd.DataFrame(ndata,columns =[\"SortingTime\"])\n",
    "model_log.predict(np.log(df))"
   ]
  },
  {
   "cell_type": "markdown",
   "id": "6a2694f6",
   "metadata": {},
   "source": [
    "### Q 2) Build a prediction model for Salary_hike"
   ]
  },
  {
   "cell_type": "code",
   "execution_count": 82,
   "id": "7c7cca45",
   "metadata": {
    "ExecuteTime": {
     "end_time": "2023-01-11T06:08:47.472003Z",
     "start_time": "2023-01-11T06:08:47.452368Z"
    }
   },
   "outputs": [
    {
     "data": {
      "text/html": [
       "<div>\n",
       "<style scoped>\n",
       "    .dataframe tbody tr th:only-of-type {\n",
       "        vertical-align: middle;\n",
       "    }\n",
       "\n",
       "    .dataframe tbody tr th {\n",
       "        vertical-align: top;\n",
       "    }\n",
       "\n",
       "    .dataframe thead th {\n",
       "        text-align: right;\n",
       "    }\n",
       "</style>\n",
       "<table border=\"1\" class=\"dataframe\">\n",
       "  <thead>\n",
       "    <tr style=\"text-align: right;\">\n",
       "      <th></th>\n",
       "      <th>YearsExperience</th>\n",
       "      <th>Salary</th>\n",
       "    </tr>\n",
       "  </thead>\n",
       "  <tbody>\n",
       "    <tr>\n",
       "      <th>0</th>\n",
       "      <td>1.1</td>\n",
       "      <td>39343.0</td>\n",
       "    </tr>\n",
       "    <tr>\n",
       "      <th>1</th>\n",
       "      <td>1.3</td>\n",
       "      <td>46205.0</td>\n",
       "    </tr>\n",
       "    <tr>\n",
       "      <th>2</th>\n",
       "      <td>1.5</td>\n",
       "      <td>37731.0</td>\n",
       "    </tr>\n",
       "    <tr>\n",
       "      <th>3</th>\n",
       "      <td>2.0</td>\n",
       "      <td>43525.0</td>\n",
       "    </tr>\n",
       "    <tr>\n",
       "      <th>4</th>\n",
       "      <td>2.2</td>\n",
       "      <td>39891.0</td>\n",
       "    </tr>\n",
       "  </tbody>\n",
       "</table>\n",
       "</div>"
      ],
      "text/plain": [
       "   YearsExperience   Salary\n",
       "0              1.1  39343.0\n",
       "1              1.3  46205.0\n",
       "2              1.5  37731.0\n",
       "3              2.0  43525.0\n",
       "4              2.2  39891.0"
      ]
     },
     "execution_count": 82,
     "metadata": {},
     "output_type": "execute_result"
    }
   ],
   "source": [
    "import pandas as pd\n",
    "data = pd.read_csv(\"Salary_Data.csv\")\n",
    "data.head()"
   ]
  },
  {
   "cell_type": "code",
   "execution_count": 83,
   "id": "b683644c",
   "metadata": {
    "ExecuteTime": {
     "end_time": "2023-01-11T06:08:49.694861Z",
     "start_time": "2023-01-11T06:08:49.671905Z"
    }
   },
   "outputs": [
    {
     "name": "stdout",
     "output_type": "stream",
     "text": [
      "<class 'pandas.core.frame.DataFrame'>\n",
      "RangeIndex: 30 entries, 0 to 29\n",
      "Data columns (total 2 columns):\n",
      " #   Column           Non-Null Count  Dtype  \n",
      "---  ------           --------------  -----  \n",
      " 0   YearsExperience  30 non-null     float64\n",
      " 1   Salary           30 non-null     float64\n",
      "dtypes: float64(2)\n",
      "memory usage: 608.0 bytes\n"
     ]
    }
   ],
   "source": [
    "data.info()"
   ]
  },
  {
   "cell_type": "code",
   "execution_count": 84,
   "id": "5f571844",
   "metadata": {
    "ExecuteTime": {
     "end_time": "2023-01-11T06:08:50.138506Z",
     "start_time": "2023-01-11T06:08:50.129536Z"
    }
   },
   "outputs": [
    {
     "data": {
      "text/plain": [
       "(30, 2)"
      ]
     },
     "execution_count": 84,
     "metadata": {},
     "output_type": "execute_result"
    }
   ],
   "source": [
    "data.shape   # NO null data is present"
   ]
  },
  {
   "cell_type": "code",
   "execution_count": 85,
   "id": "5cb6cf4a",
   "metadata": {
    "ExecuteTime": {
     "end_time": "2023-01-11T06:08:50.748354Z",
     "start_time": "2023-01-11T06:08:50.741247Z"
    }
   },
   "outputs": [
    {
     "data": {
      "text/html": [
       "<div>\n",
       "<style scoped>\n",
       "    .dataframe tbody tr th:only-of-type {\n",
       "        vertical-align: middle;\n",
       "    }\n",
       "\n",
       "    .dataframe tbody tr th {\n",
       "        vertical-align: top;\n",
       "    }\n",
       "\n",
       "    .dataframe thead th {\n",
       "        text-align: right;\n",
       "    }\n",
       "</style>\n",
       "<table border=\"1\" class=\"dataframe\">\n",
       "  <thead>\n",
       "    <tr style=\"text-align: right;\">\n",
       "      <th></th>\n",
       "      <th>YearsExperience</th>\n",
       "      <th>Salary</th>\n",
       "    </tr>\n",
       "  </thead>\n",
       "  <tbody>\n",
       "    <tr>\n",
       "      <th>YearsExperience</th>\n",
       "      <td>1.000000</td>\n",
       "      <td>0.978242</td>\n",
       "    </tr>\n",
       "    <tr>\n",
       "      <th>Salary</th>\n",
       "      <td>0.978242</td>\n",
       "      <td>1.000000</td>\n",
       "    </tr>\n",
       "  </tbody>\n",
       "</table>\n",
       "</div>"
      ],
      "text/plain": [
       "                 YearsExperience    Salary\n",
       "YearsExperience         1.000000  0.978242\n",
       "Salary                  0.978242  1.000000"
      ]
     },
     "execution_count": 85,
     "metadata": {},
     "output_type": "execute_result"
    }
   ],
   "source": [
    "data.corr()"
   ]
  },
  {
   "cell_type": "code",
   "execution_count": 86,
   "id": "f62262ae",
   "metadata": {
    "ExecuteTime": {
     "end_time": "2023-01-11T06:08:52.892705Z",
     "start_time": "2023-01-11T06:08:52.781415Z"
    }
   },
   "outputs": [
    {
     "data": {
      "image/png": "[encoded data removed]",
      "text/plain": [
       "<Figure size 432x288 with 1 Axes>"
      ]
     },
     "metadata": {
      "needs_background": "light"
     },
     "output_type": "display_data"
    }
   ],
   "source": [
    "sns.distplot(data[\"YearsExperience\"]);"
   ]
  },
  {
   "cell_type": "code",
   "execution_count": 87,
   "id": "b2e41e80",
   "metadata": {
    "ExecuteTime": {
     "end_time": "2023-01-11T06:08:53.351478Z",
     "start_time": "2023-01-11T06:08:53.249736Z"
    }
   },
   "outputs": [
    {
     "data": {
      "image/png": "[encoded data removed]",
      "text/plain": [
       "<Figure size 432x288 with 1 Axes>"
      ]
     },
     "metadata": {
      "needs_background": "light"
     },
     "output_type": "display_data"
    }
   ],
   "source": [
    "sns.distplot(data[\"Salary\"]);"
   ]
  },
  {
   "cell_type": "code",
   "execution_count": 88,
   "id": "41383bdb",
   "metadata": {
    "ExecuteTime": {
     "end_time": "2023-01-11T06:08:55.216413Z",
     "start_time": "2023-01-11T06:08:55.196574Z"
    }
   },
   "outputs": [
    {
     "data": {
      "text/plain": [
       "<statsmodels.regression.linear_model.RegressionResultsWrapper at 0x19dcfe95640>"
      ]
     },
     "execution_count": 88,
     "metadata": {},
     "output_type": "execute_result"
    }
   ],
   "source": [
    "import statsmodels.formula.api as smf\n",
    "model = smf.ols(\"Salary~YearsExperience\",data=data).fit()\n",
    "model"
   ]
  },
  {
   "cell_type": "code",
   "execution_count": 89,
   "id": "e872e449",
   "metadata": {
    "ExecuteTime": {
     "end_time": "2023-01-11T06:08:55.728192Z",
     "start_time": "2023-01-11T06:08:55.568134Z"
    }
   },
   "outputs": [
    {
     "data": {
      "image/png": "[encoded data removed]",
      "text/plain": [
       "<Figure size 432x288 with 1 Axes>"
      ]
     },
     "metadata": {
      "needs_background": "light"
     },
     "output_type": "display_data"
    }
   ],
   "source": [
    "sns.regplot(y=\"Salary\",x=\"YearsExperience\",data=data);"
   ]
  },
  {
   "cell_type": "code",
   "execution_count": 90,
   "id": "623db812",
   "metadata": {
    "ExecuteTime": {
     "end_time": "2023-01-11T06:08:57.895656Z",
     "start_time": "2023-01-11T06:08:57.887291Z"
    }
   },
   "outputs": [
    {
     "data": {
      "text/plain": [
       "Intercept          25792.200199\n",
       "YearsExperience     9449.962321\n",
       "dtype: float64"
      ]
     },
     "execution_count": 90,
     "metadata": {},
     "output_type": "execute_result"
    }
   ],
   "source": [
    "model.params"
   ]
  },
  {
   "cell_type": "code",
   "execution_count": 91,
   "id": "a5b7e5d3",
   "metadata": {
    "ExecuteTime": {
     "end_time": "2023-01-11T06:08:58.628218Z",
     "start_time": "2023-01-11T06:08:58.609369Z"
    }
   },
   "outputs": [
    {
     "name": "stdout",
     "output_type": "stream",
     "text": [
      "Intercept          11.346940\n",
      "YearsExperience    24.950094\n",
      "dtype: float64 \n",
      "\n",
      " Intercept          5.511950e-12\n",
      "YearsExperience    1.143068e-20\n",
      "dtype: float64\n"
     ]
    }
   ],
   "source": [
    "print(model.tvalues,\"\\n\\n\",model.pvalues)"
   ]
  },
  {
   "cell_type": "markdown",
   "id": "0c787b81",
   "metadata": {},
   "source": [
    "### as pvalue is less than 0.05 (alpha) ..The null hypothesis is rejected i.e B != 0\n",
    "### There is relation between Salary and YearsExperience"
   ]
  },
  {
   "cell_type": "code",
   "execution_count": 92,
   "id": "904fcb2f",
   "metadata": {
    "ExecuteTime": {
     "end_time": "2023-01-11T06:09:01.612892Z",
     "start_time": "2023-01-11T06:09:01.599570Z"
    }
   },
   "outputs": [
    {
     "data": {
      "text/plain": [
       "(0.9569566641435086, 0.9554194021486339)"
      ]
     },
     "execution_count": 92,
     "metadata": {},
     "output_type": "execute_result"
    }
   ],
   "source": [
    "(model.rsquared,model.rsquared_adj)"
   ]
  },
  {
   "cell_type": "code",
   "execution_count": 93,
   "id": "18148500",
   "metadata": {
    "ExecuteTime": {
     "end_time": "2023-01-11T06:09:02.986375Z",
     "start_time": "2023-01-11T06:09:02.972392Z"
    }
   },
   "outputs": [
    {
     "data": {
      "text/html": [
       "<div>\n",
       "<style scoped>\n",
       "    .dataframe tbody tr th:only-of-type {\n",
       "        vertical-align: middle;\n",
       "    }\n",
       "\n",
       "    .dataframe tbody tr th {\n",
       "        vertical-align: top;\n",
       "    }\n",
       "\n",
       "    .dataframe thead th {\n",
       "        text-align: right;\n",
       "    }\n",
       "</style>\n",
       "<table border=\"1\" class=\"dataframe\">\n",
       "  <thead>\n",
       "    <tr style=\"text-align: right;\">\n",
       "      <th></th>\n",
       "      <th>YearsExperience</th>\n",
       "    </tr>\n",
       "  </thead>\n",
       "  <tbody>\n",
       "    <tr>\n",
       "      <th>0</th>\n",
       "      <td>3.1</td>\n",
       "    </tr>\n",
       "    <tr>\n",
       "      <th>1</th>\n",
       "      <td>10.9</td>\n",
       "    </tr>\n",
       "    <tr>\n",
       "      <th>2</th>\n",
       "      <td>6.9</td>\n",
       "    </tr>\n",
       "  </tbody>\n",
       "</table>\n",
       "</div>"
      ],
      "text/plain": [
       "   YearsExperience\n",
       "0              3.1\n",
       "1             10.9\n",
       "2              6.9"
      ]
     },
     "execution_count": 93,
     "metadata": {},
     "output_type": "execute_result"
    }
   ],
   "source": [
    "ndata = pd.Series([3.1,10.9,6.9])\n",
    "df = pd.DataFrame(ndata,columns = [\"YearsExperience\"])\n",
    "df"
   ]
  },
  {
   "cell_type": "code",
   "execution_count": 94,
   "id": "a12c148a",
   "metadata": {
    "ExecuteTime": {
     "end_time": "2023-01-11T06:09:05.781291Z",
     "start_time": "2023-01-11T06:09:05.762855Z"
    }
   },
   "outputs": [
    {
     "data": {
      "text/plain": [
       "0     55087.083395\n",
       "1    128796.789503\n",
       "2     90996.940217\n",
       "dtype: float64"
      ]
     },
     "execution_count": 94,
     "metadata": {},
     "output_type": "execute_result"
    }
   ],
   "source": [
    "model.predict(df)"
   ]
  },
  {
   "cell_type": "markdown",
   "id": "6be44fe2",
   "metadata": {},
   "source": [
    "### Steps to increase R squared value"
   ]
  },
  {
   "cell_type": "code",
   "execution_count": 95,
   "id": "f0adccde",
   "metadata": {
    "ExecuteTime": {
     "end_time": "2023-01-11T06:09:07.815764Z",
     "start_time": "2023-01-11T06:09:07.744060Z"
    }
   },
   "outputs": [
    {
     "data": {
      "image/png": "[encoded data removed]",
      "text/plain": [
       "<Figure size 432x288 with 1 Axes>"
      ]
     },
     "metadata": {
      "needs_background": "light"
     },
     "output_type": "display_data"
    }
   ],
   "source": [
    "# Step 1 - Checking and removal of outliers\n",
    "\n",
    "sns.boxplot(data[\"Salary\"]);"
   ]
  },
  {
   "cell_type": "code",
   "execution_count": 96,
   "id": "1c59c30b",
   "metadata": {
    "ExecuteTime": {
     "end_time": "2023-01-11T06:09:10.421285Z",
     "start_time": "2023-01-11T06:09:10.357190Z"
    }
   },
   "outputs": [
    {
     "data": {
      "image/png": "[encoded data removed]",
      "text/plain": [
       "<Figure size 432x288 with 1 Axes>"
      ]
     },
     "metadata": {
      "needs_background": "light"
     },
     "output_type": "display_data"
    }
   ],
   "source": [
    "\n",
    "sns.boxplot(data[\"YearsExperience\"]);"
   ]
  },
  {
   "cell_type": "markdown",
   "id": "cd26514f",
   "metadata": {},
   "source": [
    "__No presence of outliers. Hence moving towards transformations__"
   ]
  },
  {
   "cell_type": "code",
   "execution_count": 97,
   "id": "bb36563a",
   "metadata": {
    "ExecuteTime": {
     "end_time": "2023-01-11T06:09:15.844484Z",
     "start_time": "2023-01-11T06:09:15.740803Z"
    }
   },
   "outputs": [
    {
     "data": {
      "image/png": "[encoded data removed]",
      "text/plain": [
       "<Figure size 432x288 with 1 Axes>"
      ]
     },
     "metadata": {
      "needs_background": "light"
     },
     "output_type": "display_data"
    }
   ],
   "source": [
    "# Step 2 - Transformation (Choosing log transformation)\n",
    "data_log = np.log(data)\n",
    "sns.distplot(data['Salary']);"
   ]
  },
  {
   "cell_type": "code",
   "execution_count": 98,
   "id": "feaefdf8",
   "metadata": {
    "ExecuteTime": {
     "end_time": "2023-01-11T06:09:49.669253Z",
     "start_time": "2023-01-11T06:09:49.660345Z"
    }
   },
   "outputs": [],
   "source": [
    "model_log = smf.ols(\"Salary~YearsExperience\",data=data_log).fit()"
   ]
  },
  {
   "cell_type": "code",
   "execution_count": 99,
   "id": "871d91be",
   "metadata": {
    "ExecuteTime": {
     "end_time": "2023-01-11T06:10:00.837716Z",
     "start_time": "2023-01-11T06:10:00.832124Z"
    }
   },
   "outputs": [
    {
     "data": {
      "text/plain": [
       "(0.9569566641435086, 0.9554194021486339)"
      ]
     },
     "execution_count": 99,
     "metadata": {},
     "output_type": "execute_result"
    }
   ],
   "source": [
    "(model.rsquared,model.rsquared_adj)"
   ]
  },
  {
   "cell_type": "markdown",
   "id": "0445a06f",
   "metadata": {},
   "source": [
    "__R squared value remains unchanged with transformation hence no need to do further changes__"
   ]
  }
 ],
 "metadata": {
  "kernelspec": {
   "display_name": "Python 3 (ipykernel)",
   "language": "python",
   "name": "python3"
  },
  "language_info": {
   "codemirror_mode": {
    "name": "ipython",
    "version": 3
   },
   "file_extension": ".py",
   "mimetype": "text/x-python",
   "name": "python",
   "nbconvert_exporter": "python",
   "pygments_lexer": "ipython3",
   "version": "3.9.7"
  }
 },
 "nbformat": 4,
 "nbformat_minor": 5
}
