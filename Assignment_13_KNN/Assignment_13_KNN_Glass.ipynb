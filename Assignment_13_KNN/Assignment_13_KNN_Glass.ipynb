{
 "cells": [
  {
   "cell_type": "markdown",
   "id": "92814dca",
   "metadata": {},
   "source": [
    "### ASSIGNMENT - 13\n",
    "### Topic - KNN_glass_problem\n",
    "### By Tushar N. Mondkar (Batch of 27 March,Andheri)\n",
    "### Mentor - Jayantilal Sir"
   ]
  },
  {
   "cell_type": "markdown",
   "id": "21993458",
   "metadata": {},
   "source": [
    "__Q Prepare a model for glass classification using KNN__"
   ]
  },
  {
   "cell_type": "code",
   "execution_count": 27,
   "id": "00035041",
   "metadata": {
    "ExecuteTime": {
     "end_time": "2023-01-16T20:04:11.520610Z",
     "start_time": "2023-01-16T20:04:11.512499Z"
    }
   },
   "outputs": [],
   "source": [
    "#Importing necessary libraries\n",
    "\n",
    "import pandas as pd\n",
    "import numpy as np\n",
    "\n",
    "import matplotlib.pyplot as plt\n",
    "import seaborn as sns\n",
    "%matplotlib inline\n",
    "\n",
    "from sklearn.preprocessing import StandardScaler\n",
    "from sklearn.model_selection import train_test_split\n",
    "from sklearn.neighbors import KNeighborsClassifier\n",
    "from sklearn.metrics import confusion_matrix, classification_report,accuracy_score\n",
    "\n",
    "import warnings\n",
    "warnings.filterwarnings(\"ignore\")"
   ]
  },
  {
   "cell_type": "code",
   "execution_count": 28,
   "id": "bf5af0db",
   "metadata": {
    "ExecuteTime": {
     "end_time": "2023-01-16T20:04:11.790887Z",
     "start_time": "2023-01-16T20:04:11.769288Z"
    }
   },
   "outputs": [
    {
     "data": {
      "text/html": [
       "<div>\n",
       "<style scoped>\n",
       "    .dataframe tbody tr th:only-of-type {\n",
       "        vertical-align: middle;\n",
       "    }\n",
       "\n",
       "    .dataframe tbody tr th {\n",
       "        vertical-align: top;\n",
       "    }\n",
       "\n",
       "    .dataframe thead th {\n",
       "        text-align: right;\n",
       "    }\n",
       "</style>\n",
       "<table border=\"1\" class=\"dataframe\">\n",
       "  <thead>\n",
       "    <tr style=\"text-align: right;\">\n",
       "      <th></th>\n",
       "      <th>RI</th>\n",
       "      <th>Na</th>\n",
       "      <th>Mg</th>\n",
       "      <th>Al</th>\n",
       "      <th>Si</th>\n",
       "      <th>K</th>\n",
       "      <th>Ca</th>\n",
       "      <th>Ba</th>\n",
       "      <th>Fe</th>\n",
       "      <th>Type</th>\n",
       "    </tr>\n",
       "  </thead>\n",
       "  <tbody>\n",
       "    <tr>\n",
       "      <th>0</th>\n",
       "      <td>1.52101</td>\n",
       "      <td>13.64</td>\n",
       "      <td>4.49</td>\n",
       "      <td>1.10</td>\n",
       "      <td>71.78</td>\n",
       "      <td>0.06</td>\n",
       "      <td>8.75</td>\n",
       "      <td>0.0</td>\n",
       "      <td>0.0</td>\n",
       "      <td>1</td>\n",
       "    </tr>\n",
       "    <tr>\n",
       "      <th>1</th>\n",
       "      <td>1.51761</td>\n",
       "      <td>13.89</td>\n",
       "      <td>3.60</td>\n",
       "      <td>1.36</td>\n",
       "      <td>72.73</td>\n",
       "      <td>0.48</td>\n",
       "      <td>7.83</td>\n",
       "      <td>0.0</td>\n",
       "      <td>0.0</td>\n",
       "      <td>1</td>\n",
       "    </tr>\n",
       "    <tr>\n",
       "      <th>2</th>\n",
       "      <td>1.51618</td>\n",
       "      <td>13.53</td>\n",
       "      <td>3.55</td>\n",
       "      <td>1.54</td>\n",
       "      <td>72.99</td>\n",
       "      <td>0.39</td>\n",
       "      <td>7.78</td>\n",
       "      <td>0.0</td>\n",
       "      <td>0.0</td>\n",
       "      <td>1</td>\n",
       "    </tr>\n",
       "    <tr>\n",
       "      <th>3</th>\n",
       "      <td>1.51766</td>\n",
       "      <td>13.21</td>\n",
       "      <td>3.69</td>\n",
       "      <td>1.29</td>\n",
       "      <td>72.61</td>\n",
       "      <td>0.57</td>\n",
       "      <td>8.22</td>\n",
       "      <td>0.0</td>\n",
       "      <td>0.0</td>\n",
       "      <td>1</td>\n",
       "    </tr>\n",
       "    <tr>\n",
       "      <th>4</th>\n",
       "      <td>1.51742</td>\n",
       "      <td>13.27</td>\n",
       "      <td>3.62</td>\n",
       "      <td>1.24</td>\n",
       "      <td>73.08</td>\n",
       "      <td>0.55</td>\n",
       "      <td>8.07</td>\n",
       "      <td>0.0</td>\n",
       "      <td>0.0</td>\n",
       "      <td>1</td>\n",
       "    </tr>\n",
       "  </tbody>\n",
       "</table>\n",
       "</div>"
      ],
      "text/plain": [
       "        RI     Na    Mg    Al     Si     K    Ca   Ba   Fe  Type\n",
       "0  1.52101  13.64  4.49  1.10  71.78  0.06  8.75  0.0  0.0     1\n",
       "1  1.51761  13.89  3.60  1.36  72.73  0.48  7.83  0.0  0.0     1\n",
       "2  1.51618  13.53  3.55  1.54  72.99  0.39  7.78  0.0  0.0     1\n",
       "3  1.51766  13.21  3.69  1.29  72.61  0.57  8.22  0.0  0.0     1\n",
       "4  1.51742  13.27  3.62  1.24  73.08  0.55  8.07  0.0  0.0     1"
      ]
     },
     "execution_count": 28,
     "metadata": {},
     "output_type": "execute_result"
    }
   ],
   "source": [
    "#Loading of data\n",
    "df = pd.read_csv(\"glass.csv\")\n",
    "df.head()"
   ]
  },
  {
   "cell_type": "code",
   "execution_count": 29,
   "id": "559cca79",
   "metadata": {
    "ExecuteTime": {
     "end_time": "2023-01-16T20:04:11.973540Z",
     "start_time": "2023-01-16T20:04:11.962879Z"
    }
   },
   "outputs": [
    {
     "data": {
      "text/plain": [
       "RI      0\n",
       "Na      0\n",
       "Mg      0\n",
       "Al      0\n",
       "Si      0\n",
       "K       0\n",
       "Ca      0\n",
       "Ba      0\n",
       "Fe      0\n",
       "Type    0\n",
       "dtype: int64"
      ]
     },
     "execution_count": 29,
     "metadata": {},
     "output_type": "execute_result"
    }
   ],
   "source": [
    "#Checking of null values\n",
    "df.isnull().sum()"
   ]
  },
  {
   "cell_type": "code",
   "execution_count": 30,
   "id": "959e2964",
   "metadata": {
    "ExecuteTime": {
     "end_time": "2023-01-16T20:04:12.175910Z",
     "start_time": "2023-01-16T20:04:12.147295Z"
    }
   },
   "outputs": [
    {
     "data": {
      "text/html": [
       "<div>\n",
       "<style scoped>\n",
       "    .dataframe tbody tr th:only-of-type {\n",
       "        vertical-align: middle;\n",
       "    }\n",
       "\n",
       "    .dataframe tbody tr th {\n",
       "        vertical-align: top;\n",
       "    }\n",
       "\n",
       "    .dataframe thead th {\n",
       "        text-align: right;\n",
       "    }\n",
       "</style>\n",
       "<table border=\"1\" class=\"dataframe\">\n",
       "  <thead>\n",
       "    <tr style=\"text-align: right;\">\n",
       "      <th></th>\n",
       "      <th>RI</th>\n",
       "      <th>Na</th>\n",
       "      <th>Mg</th>\n",
       "      <th>Al</th>\n",
       "      <th>Si</th>\n",
       "      <th>K</th>\n",
       "      <th>Ca</th>\n",
       "      <th>Ba</th>\n",
       "      <th>Fe</th>\n",
       "      <th>Type</th>\n",
       "    </tr>\n",
       "  </thead>\n",
       "  <tbody>\n",
       "    <tr>\n",
       "      <th>0</th>\n",
       "      <td>1.52101</td>\n",
       "      <td>13.64</td>\n",
       "      <td>4.49</td>\n",
       "      <td>1.10</td>\n",
       "      <td>71.78</td>\n",
       "      <td>0.06</td>\n",
       "      <td>8.75</td>\n",
       "      <td>0.0</td>\n",
       "      <td>0.0</td>\n",
       "      <td>building_windows_float_processed</td>\n",
       "    </tr>\n",
       "    <tr>\n",
       "      <th>1</th>\n",
       "      <td>1.51761</td>\n",
       "      <td>13.89</td>\n",
       "      <td>3.60</td>\n",
       "      <td>1.36</td>\n",
       "      <td>72.73</td>\n",
       "      <td>0.48</td>\n",
       "      <td>7.83</td>\n",
       "      <td>0.0</td>\n",
       "      <td>0.0</td>\n",
       "      <td>building_windows_float_processed</td>\n",
       "    </tr>\n",
       "    <tr>\n",
       "      <th>2</th>\n",
       "      <td>1.51618</td>\n",
       "      <td>13.53</td>\n",
       "      <td>3.55</td>\n",
       "      <td>1.54</td>\n",
       "      <td>72.99</td>\n",
       "      <td>0.39</td>\n",
       "      <td>7.78</td>\n",
       "      <td>0.0</td>\n",
       "      <td>0.0</td>\n",
       "      <td>building_windows_float_processed</td>\n",
       "    </tr>\n",
       "    <tr>\n",
       "      <th>3</th>\n",
       "      <td>1.51766</td>\n",
       "      <td>13.21</td>\n",
       "      <td>3.69</td>\n",
       "      <td>1.29</td>\n",
       "      <td>72.61</td>\n",
       "      <td>0.57</td>\n",
       "      <td>8.22</td>\n",
       "      <td>0.0</td>\n",
       "      <td>0.0</td>\n",
       "      <td>building_windows_float_processed</td>\n",
       "    </tr>\n",
       "    <tr>\n",
       "      <th>4</th>\n",
       "      <td>1.51742</td>\n",
       "      <td>13.27</td>\n",
       "      <td>3.62</td>\n",
       "      <td>1.24</td>\n",
       "      <td>73.08</td>\n",
       "      <td>0.55</td>\n",
       "      <td>8.07</td>\n",
       "      <td>0.0</td>\n",
       "      <td>0.0</td>\n",
       "      <td>building_windows_float_processed</td>\n",
       "    </tr>\n",
       "  </tbody>\n",
       "</table>\n",
       "</div>"
      ],
      "text/plain": [
       "        RI     Na    Mg    Al     Si     K    Ca   Ba   Fe  \\\n",
       "0  1.52101  13.64  4.49  1.10  71.78  0.06  8.75  0.0  0.0   \n",
       "1  1.51761  13.89  3.60  1.36  72.73  0.48  7.83  0.0  0.0   \n",
       "2  1.51618  13.53  3.55  1.54  72.99  0.39  7.78  0.0  0.0   \n",
       "3  1.51766  13.21  3.69  1.29  72.61  0.57  8.22  0.0  0.0   \n",
       "4  1.51742  13.27  3.62  1.24  73.08  0.55  8.07  0.0  0.0   \n",
       "\n",
       "                               Type  \n",
       "0  building_windows_float_processed  \n",
       "1  building_windows_float_processed  \n",
       "2  building_windows_float_processed  \n",
       "3  building_windows_float_processed  \n",
       "4  building_windows_float_processed  "
      ]
     },
     "execution_count": 30,
     "metadata": {},
     "output_type": "execute_result"
    }
   ],
   "source": [
    "# replacing the glass_types from numbers to it's respective classes\n",
    "df['Type'] = df['Type'].replace({1:'building_windows_float_processed',2:'building_windows_non_float_processed',3:'vehicle_windows_float_processed',5:'containers',6:'tableware',7:'headlamps'})\n",
    "df.head()"
   ]
  },
  {
   "cell_type": "code",
   "execution_count": 31,
   "id": "50ad3782",
   "metadata": {
    "ExecuteTime": {
     "end_time": "2023-01-16T20:04:12.374458Z",
     "start_time": "2023-01-16T20:04:12.352661Z"
    }
   },
   "outputs": [
    {
     "data": {
      "text/html": [
       "<div>\n",
       "<style scoped>\n",
       "    .dataframe tbody tr th:only-of-type {\n",
       "        vertical-align: middle;\n",
       "    }\n",
       "\n",
       "    .dataframe tbody tr th {\n",
       "        vertical-align: top;\n",
       "    }\n",
       "\n",
       "    .dataframe thead th {\n",
       "        text-align: right;\n",
       "    }\n",
       "</style>\n",
       "<table border=\"1\" class=\"dataframe\">\n",
       "  <thead>\n",
       "    <tr style=\"text-align: right;\">\n",
       "      <th></th>\n",
       "      <th>0</th>\n",
       "      <th>1</th>\n",
       "      <th>2</th>\n",
       "      <th>3</th>\n",
       "      <th>4</th>\n",
       "      <th>5</th>\n",
       "      <th>6</th>\n",
       "      <th>7</th>\n",
       "      <th>8</th>\n",
       "    </tr>\n",
       "  </thead>\n",
       "  <tbody>\n",
       "    <tr>\n",
       "      <th>0</th>\n",
       "      <td>0.872868</td>\n",
       "      <td>0.284953</td>\n",
       "      <td>1.254639</td>\n",
       "      <td>-0.692442</td>\n",
       "      <td>-1.127082</td>\n",
       "      <td>-0.671705</td>\n",
       "      <td>-0.145766</td>\n",
       "      <td>-0.352877</td>\n",
       "      <td>-0.586451</td>\n",
       "    </tr>\n",
       "    <tr>\n",
       "      <th>1</th>\n",
       "      <td>-0.249333</td>\n",
       "      <td>0.591817</td>\n",
       "      <td>0.636168</td>\n",
       "      <td>-0.170460</td>\n",
       "      <td>0.102319</td>\n",
       "      <td>-0.026213</td>\n",
       "      <td>-0.793734</td>\n",
       "      <td>-0.352877</td>\n",
       "      <td>-0.586451</td>\n",
       "    </tr>\n",
       "    <tr>\n",
       "      <th>2</th>\n",
       "      <td>-0.721318</td>\n",
       "      <td>0.149933</td>\n",
       "      <td>0.601422</td>\n",
       "      <td>0.190912</td>\n",
       "      <td>0.438787</td>\n",
       "      <td>-0.164533</td>\n",
       "      <td>-0.828949</td>\n",
       "      <td>-0.352877</td>\n",
       "      <td>-0.586451</td>\n",
       "    </tr>\n",
       "    <tr>\n",
       "      <th>3</th>\n",
       "      <td>-0.232831</td>\n",
       "      <td>-0.242853</td>\n",
       "      <td>0.698710</td>\n",
       "      <td>-0.310994</td>\n",
       "      <td>-0.052974</td>\n",
       "      <td>0.112107</td>\n",
       "      <td>-0.519052</td>\n",
       "      <td>-0.352877</td>\n",
       "      <td>-0.586451</td>\n",
       "    </tr>\n",
       "    <tr>\n",
       "      <th>4</th>\n",
       "      <td>-0.312045</td>\n",
       "      <td>-0.169205</td>\n",
       "      <td>0.650066</td>\n",
       "      <td>-0.411375</td>\n",
       "      <td>0.555256</td>\n",
       "      <td>0.081369</td>\n",
       "      <td>-0.624699</td>\n",
       "      <td>-0.352877</td>\n",
       "      <td>-0.586451</td>\n",
       "    </tr>\n",
       "  </tbody>\n",
       "</table>\n",
       "</div>"
      ],
      "text/plain": [
       "          0         1         2         3         4         5         6  \\\n",
       "0  0.872868  0.284953  1.254639 -0.692442 -1.127082 -0.671705 -0.145766   \n",
       "1 -0.249333  0.591817  0.636168 -0.170460  0.102319 -0.026213 -0.793734   \n",
       "2 -0.721318  0.149933  0.601422  0.190912  0.438787 -0.164533 -0.828949   \n",
       "3 -0.232831 -0.242853  0.698710 -0.310994 -0.052974  0.112107 -0.519052   \n",
       "4 -0.312045 -0.169205  0.650066 -0.411375  0.555256  0.081369 -0.624699   \n",
       "\n",
       "          7         8  \n",
       "0 -0.352877 -0.586451  \n",
       "1 -0.352877 -0.586451  \n",
       "2 -0.352877 -0.586451  \n",
       "3 -0.352877 -0.586451  \n",
       "4 -0.352877 -0.586451  "
      ]
     },
     "execution_count": 31,
     "metadata": {},
     "output_type": "execute_result"
    }
   ],
   "source": [
    "#Scaling of data(Standardization)\n",
    "\n",
    "scaler = StandardScaler()\n",
    "sc_df = pd.DataFrame(scaler.fit_transform(df.drop('Type', axis=1)))\n",
    "sc_df.head()\n"
   ]
  },
  {
   "cell_type": "code",
   "execution_count": 32,
   "id": "615d0446",
   "metadata": {
    "ExecuteTime": {
     "end_time": "2023-01-16T20:04:12.524796Z",
     "start_time": "2023-01-16T20:04:12.518113Z"
    }
   },
   "outputs": [],
   "source": [
    "#Splitting of data\n",
    "\n",
    "X = sc_df\n",
    "y = df['Type']\n",
    "X_train, X_test, y_train, y_test = train_test_split(X, y, test_size=0.3)\n"
   ]
  },
  {
   "cell_type": "code",
   "execution_count": 33,
   "id": "dea38136",
   "metadata": {
    "ExecuteTime": {
     "end_time": "2023-01-16T20:04:12.974562Z",
     "start_time": "2023-01-16T20:04:12.716468Z"
    }
   },
   "outputs": [
    {
     "data": {
      "text/plain": [
       "Text(0, 0.5, 'Error Rate')"
      ]
     },
     "execution_count": 33,
     "metadata": {},
     "output_type": "execute_result"
    },
    {
     "data": {
      "image/png": "[encoded data removed]",
      "text/plain": [
       "<Figure size 720x504 with 1 Axes>"
      ]
     },
     "metadata": {
      "needs_background": "light"
     },
     "output_type": "display_data"
    }
   ],
   "source": [
    "#Error Rates\n",
    "\n",
    "error_rates = []\n",
    "\n",
    "for a in range(1, 40):\n",
    "    k = a\n",
    "    knn = KNeighborsClassifier(n_neighbors=k,metric = 'euclidean')\n",
    "    knn.fit(X_train, y_train)\n",
    "    preds = knn.predict(X_test)\n",
    "    error_rates.append(np.mean(y_test != preds))\n",
    "\n",
    "plt.figure(figsize=(10, 7))\n",
    "plt.plot(range(1,40),error_rates,color='blue', linestyle='dashed', marker='o',markerfacecolor='red', markersize=10)\n",
    "plt.title('Error Rate vs. K Value')\n",
    "plt.xlabel('K')\n",
    "plt.ylabel('Error Rate')"
   ]
  },
  {
   "cell_type": "code",
   "execution_count": 34,
   "id": "9969eadb",
   "metadata": {
    "ExecuteTime": {
     "end_time": "2023-01-16T20:04:12.994207Z",
     "start_time": "2023-01-16T20:04:12.977561Z"
    }
   },
   "outputs": [],
   "source": [
    "# From graph it can be seen that k = 1 gives optimum error,hence taking k as 1\n",
    "\n",
    "k = 1\n",
    "knn = KNeighborsClassifier(n_neighbors=k,metric = 'euclidean')\n",
    "knn.fit(X_train, y_train)\n",
    "preds = knn.predict(X_test)\n"
   ]
  },
  {
   "cell_type": "code",
   "execution_count": 35,
   "id": "8bfc1595",
   "metadata": {
    "ExecuteTime": {
     "end_time": "2023-01-16T20:04:13.125684Z",
     "start_time": "2023-01-16T20:04:13.102794Z"
    }
   },
   "outputs": [
    {
     "name": "stdout",
     "output_type": "stream",
     "text": [
      "[[12  2  0  0  0  4]\n",
      " [ 3 18  2  0  0  1]\n",
      " [ 1  0  2  0  0  0]\n",
      " [ 1  0  1 10  1  0]\n",
      " [ 0  1  0  0  2  0]\n",
      " [ 1  2  0  0  0  1]]\n",
      "                                      precision    recall  f1-score   support\n",
      "\n",
      "    building_windows_float_processed       0.67      0.67      0.67        18\n",
      "building_windows_non_float_processed       0.78      0.75      0.77        24\n",
      "                          containers       0.40      0.67      0.50         3\n",
      "                           headlamps       1.00      0.77      0.87        13\n",
      "                           tableware       0.67      0.67      0.67         3\n",
      "     vehicle_windows_float_processed       0.17      0.25      0.20         4\n",
      "\n",
      "                            accuracy                           0.69        65\n",
      "                           macro avg       0.61      0.63      0.61        65\n",
      "                        weighted avg       0.73      0.69      0.71        65\n",
      "\n"
     ]
    }
   ],
   "source": [
    "# Evaluation of model\n",
    "\n",
    "print(confusion_matrix(y_test, preds))\n",
    "print(classification_report(y_test, preds))\n"
   ]
  },
  {
   "cell_type": "code",
   "execution_count": 36,
   "id": "7e4f732c",
   "metadata": {
    "ExecuteTime": {
     "end_time": "2023-01-16T20:04:13.325502Z",
     "start_time": "2023-01-16T20:04:13.299688Z"
    }
   },
   "outputs": [
    {
     "data": {
      "text/html": [
       "<div>\n",
       "<style scoped>\n",
       "    .dataframe tbody tr th:only-of-type {\n",
       "        vertical-align: middle;\n",
       "    }\n",
       "\n",
       "    .dataframe tbody tr th {\n",
       "        vertical-align: top;\n",
       "    }\n",
       "\n",
       "    .dataframe thead th {\n",
       "        text-align: right;\n",
       "    }\n",
       "</style>\n",
       "<table border=\"1\" class=\"dataframe\">\n",
       "  <thead>\n",
       "    <tr style=\"text-align: right;\">\n",
       "      <th></th>\n",
       "      <th>Actual</th>\n",
       "      <th>Predicted</th>\n",
       "    </tr>\n",
       "  </thead>\n",
       "  <tbody>\n",
       "    <tr>\n",
       "      <th>12</th>\n",
       "      <td>building_windows_float_processed</td>\n",
       "      <td>building_windows_non_float_processed</td>\n",
       "    </tr>\n",
       "    <tr>\n",
       "      <th>194</th>\n",
       "      <td>headlamps</td>\n",
       "      <td>headlamps</td>\n",
       "    </tr>\n",
       "    <tr>\n",
       "      <th>208</th>\n",
       "      <td>headlamps</td>\n",
       "      <td>headlamps</td>\n",
       "    </tr>\n",
       "    <tr>\n",
       "      <th>43</th>\n",
       "      <td>building_windows_float_processed</td>\n",
       "      <td>building_windows_float_processed</td>\n",
       "    </tr>\n",
       "    <tr>\n",
       "      <th>82</th>\n",
       "      <td>building_windows_non_float_processed</td>\n",
       "      <td>vehicle_windows_float_processed</td>\n",
       "    </tr>\n",
       "    <tr>\n",
       "      <th>...</th>\n",
       "      <td>...</td>\n",
       "      <td>...</td>\n",
       "    </tr>\n",
       "    <tr>\n",
       "      <th>59</th>\n",
       "      <td>building_windows_float_processed</td>\n",
       "      <td>vehicle_windows_float_processed</td>\n",
       "    </tr>\n",
       "    <tr>\n",
       "      <th>109</th>\n",
       "      <td>building_windows_non_float_processed</td>\n",
       "      <td>containers</td>\n",
       "    </tr>\n",
       "    <tr>\n",
       "      <th>22</th>\n",
       "      <td>building_windows_float_processed</td>\n",
       "      <td>building_windows_float_processed</td>\n",
       "    </tr>\n",
       "    <tr>\n",
       "      <th>46</th>\n",
       "      <td>building_windows_float_processed</td>\n",
       "      <td>building_windows_non_float_processed</td>\n",
       "    </tr>\n",
       "    <tr>\n",
       "      <th>122</th>\n",
       "      <td>building_windows_non_float_processed</td>\n",
       "      <td>building_windows_non_float_processed</td>\n",
       "    </tr>\n",
       "  </tbody>\n",
       "</table>\n",
       "<p>65 rows × 2 columns</p>\n",
       "</div>"
      ],
      "text/plain": [
       "                                   Actual  \\\n",
       "12       building_windows_float_processed   \n",
       "194                             headlamps   \n",
       "208                             headlamps   \n",
       "43       building_windows_float_processed   \n",
       "82   building_windows_non_float_processed   \n",
       "..                                    ...   \n",
       "59       building_windows_float_processed   \n",
       "109  building_windows_non_float_processed   \n",
       "22       building_windows_float_processed   \n",
       "46       building_windows_float_processed   \n",
       "122  building_windows_non_float_processed   \n",
       "\n",
       "                                Predicted  \n",
       "12   building_windows_non_float_processed  \n",
       "194                             headlamps  \n",
       "208                             headlamps  \n",
       "43       building_windows_float_processed  \n",
       "82        vehicle_windows_float_processed  \n",
       "..                                    ...  \n",
       "59        vehicle_windows_float_processed  \n",
       "109                            containers  \n",
       "22       building_windows_float_processed  \n",
       "46   building_windows_non_float_processed  \n",
       "122  building_windows_non_float_processed  \n",
       "\n",
       "[65 rows x 2 columns]"
      ]
     },
     "execution_count": 36,
     "metadata": {},
     "output_type": "execute_result"
    }
   ],
   "source": [
    "# actual vs predicted\n",
    "df_test = pd.DataFrame({'Actual':y_test, 'Predicted':preds})\n",
    "df_test"
   ]
  },
  {
   "cell_type": "markdown",
   "id": "5b3e0833",
   "metadata": {},
   "source": [
    "### Implimentation of SMOTE to increase accuracy"
   ]
  },
  {
   "cell_type": "code",
   "execution_count": 57,
   "id": "26fac3b1",
   "metadata": {
    "ExecuteTime": {
     "end_time": "2023-01-16T20:30:19.107125Z",
     "start_time": "2023-01-16T20:30:19.090150Z"
    }
   },
   "outputs": [
    {
     "name": "stdout",
     "output_type": "stream",
     "text": [
      "(149, 9)\n",
      "(149,)\n"
     ]
    }
   ],
   "source": [
    "print(X_train.shape)\n",
    "print(y_train.shape)"
   ]
  },
  {
   "cell_type": "code",
   "execution_count": 38,
   "id": "f267808e",
   "metadata": {
    "ExecuteTime": {
     "end_time": "2023-01-16T20:04:16.388817Z",
     "start_time": "2023-01-16T20:04:13.868300Z"
    }
   },
   "outputs": [
    {
     "name": "stdout",
     "output_type": "stream",
     "text": [
      "Requirement already satisfied: imblearn in c:\\users\\mondk\\anaconda_3\\lib\\site-packages (0.0)\n",
      "Requirement already satisfied: imbalanced-learn in c:\\users\\mondk\\anaconda_3\\lib\\site-packages (from imblearn) (0.10.1)\n",
      "Requirement already satisfied: scikit-learn>=1.0.2 in c:\\users\\mondk\\anaconda_3\\lib\\site-packages (from imbalanced-learn->imblearn) (1.1.0)\n",
      "Requirement already satisfied: scipy>=1.3.2 in c:\\users\\mondk\\anaconda_3\\lib\\site-packages (from imbalanced-learn->imblearn) (1.7.1)\n",
      "Requirement already satisfied: threadpoolctl>=2.0.0 in c:\\users\\mondk\\anaconda_3\\lib\\site-packages (from imbalanced-learn->imblearn) (2.2.0)\n",
      "Requirement already satisfied: numpy>=1.17.3 in c:\\users\\mondk\\anaconda_3\\lib\\site-packages (from imbalanced-learn->imblearn) (1.20.3)\n",
      "Requirement already satisfied: joblib>=1.1.1 in c:\\users\\mondk\\anaconda_3\\lib\\site-packages (from imbalanced-learn->imblearn) (1.2.0)\n",
      "\n",
      "[notice] A new release of pip available: 22.1.2 -> 22.3.1\n",
      "[notice] To update, run: python.exe -m pip install --upgrade pip\n",
      "Note: you may need to restart the kernel to use updated packages.\n"
     ]
    }
   ],
   "source": [
    "pip install imblearn"
   ]
  },
  {
   "cell_type": "code",
   "execution_count": 40,
   "id": "fd2c3775",
   "metadata": {
    "ExecuteTime": {
     "end_time": "2023-01-16T20:05:55.273787Z",
     "start_time": "2023-01-16T20:05:55.172556Z"
    }
   },
   "outputs": [],
   "source": [
    "from imblearn.over_sampling import SMOTE\n",
    "sm = SMOTE(random_state = 2)\n",
    "X_train_res, y_train_res = sm.fit_resample(X_train, y_train)"
   ]
  },
  {
   "cell_type": "code",
   "execution_count": 41,
   "id": "3d0a4f8d",
   "metadata": {
    "ExecuteTime": {
     "end_time": "2023-01-16T20:06:23.260393Z",
     "start_time": "2023-01-16T20:06:23.250969Z"
    }
   },
   "outputs": [
    {
     "name": "stdout",
     "output_type": "stream",
     "text": [
      "(312, 9)\n",
      "(312,)\n"
     ]
    }
   ],
   "source": [
    "print(X_train_res.shape)\n",
    "print(y_train_res.shape)"
   ]
  },
  {
   "cell_type": "code",
   "execution_count": 42,
   "id": "f408b52c",
   "metadata": {
    "ExecuteTime": {
     "end_time": "2023-01-16T20:07:05.757331Z",
     "start_time": "2023-01-16T20:07:05.421192Z"
    }
   },
   "outputs": [
    {
     "data": {
      "text/plain": [
       "Text(0, 0.5, 'Error Rate')"
      ]
     },
     "execution_count": 42,
     "metadata": {},
     "output_type": "execute_result"
    },
    {
     "data": {
      "image/png": "[encoded data removed]",
      "text/plain": [
       "<Figure size 720x504 with 1 Axes>"
      ]
     },
     "metadata": {
      "needs_background": "light"
     },
     "output_type": "display_data"
    }
   ],
   "source": [
    "#Error Rates\n",
    "\n",
    "error_rates = []\n",
    "\n",
    "for a in range(1, 40):\n",
    "    k = a\n",
    "    knn = KNeighborsClassifier(n_neighbors=k,metric = 'euclidean')\n",
    "    knn.fit(X_train_res, y_train_res)\n",
    "    preds = knn.predict(X_test)\n",
    "    error_rates.append(np.mean(y_test != preds))\n",
    "\n",
    "plt.figure(figsize=(10, 7))\n",
    "plt.plot(range(1,40),error_rates,color='blue', linestyle='dashed', marker='o',markerfacecolor='red', markersize=10)\n",
    "plt.title('Error Rate vs. K Value')\n",
    "plt.xlabel('K')\n",
    "plt.ylabel('Error Rate')"
   ]
  },
  {
   "cell_type": "markdown",
   "id": "8c52f9df",
   "metadata": {},
   "source": [
    "__Choosing k as 3 as it is giving least error__"
   ]
  },
  {
   "cell_type": "code",
   "execution_count": 59,
   "id": "70ebbe3c",
   "metadata": {
    "ExecuteTime": {
     "end_time": "2023-01-16T20:41:38.259663Z",
     "start_time": "2023-01-16T20:41:38.239248Z"
    }
   },
   "outputs": [],
   "source": [
    "k = 3\n",
    "knn = KNeighborsClassifier(n_neighbors=k,metric = 'euclidean')\n",
    "knn.fit(X_train_res, y_train_res)\n",
    "preds = knn.predict(X_test)\n"
   ]
  },
  {
   "cell_type": "code",
   "execution_count": 60,
   "id": "0113580d",
   "metadata": {
    "ExecuteTime": {
     "end_time": "2023-01-16T20:41:39.275033Z",
     "start_time": "2023-01-16T20:41:39.251863Z"
    }
   },
   "outputs": [
    {
     "name": "stdout",
     "output_type": "stream",
     "text": [
      "[[14  2  0  0  0  2]\n",
      " [ 4 17  2  0  0  1]\n",
      " [ 0  0  3  0  0  0]\n",
      " [ 1  0  1 10  1  0]\n",
      " [ 0  0  0  0  3  0]\n",
      " [ 1  1  0  0  0  2]]\n",
      "                                      precision    recall  f1-score   support\n",
      "\n",
      "    building_windows_float_processed       0.70      0.78      0.74        18\n",
      "building_windows_non_float_processed       0.85      0.71      0.77        24\n",
      "                          containers       0.50      1.00      0.67         3\n",
      "                           headlamps       1.00      0.77      0.87        13\n",
      "                           tableware       0.75      1.00      0.86         3\n",
      "     vehicle_windows_float_processed       0.40      0.50      0.44         4\n",
      "\n",
      "                            accuracy                           0.75        65\n",
      "                           macro avg       0.70      0.79      0.72        65\n",
      "                        weighted avg       0.79      0.75      0.76        65\n",
      "\n"
     ]
    }
   ],
   "source": [
    "# Evaluation of model\n",
    "\n",
    "print(confusion_matrix(y_test, preds))\n",
    "print(classification_report(y_test, preds))\n"
   ]
  },
  {
   "cell_type": "code",
   "execution_count": 58,
   "id": "de19b6a9",
   "metadata": {
    "ExecuteTime": {
     "end_time": "2023-01-16T20:41:33.577741Z",
     "start_time": "2023-01-16T20:41:33.558150Z"
    }
   },
   "outputs": [
    {
     "data": {
      "text/html": [
       "<div>\n",
       "<style scoped>\n",
       "    .dataframe tbody tr th:only-of-type {\n",
       "        vertical-align: middle;\n",
       "    }\n",
       "\n",
       "    .dataframe tbody tr th {\n",
       "        vertical-align: top;\n",
       "    }\n",
       "\n",
       "    .dataframe thead th {\n",
       "        text-align: right;\n",
       "    }\n",
       "</style>\n",
       "<table border=\"1\" class=\"dataframe\">\n",
       "  <thead>\n",
       "    <tr style=\"text-align: right;\">\n",
       "      <th></th>\n",
       "      <th>Actual</th>\n",
       "      <th>Predicted</th>\n",
       "    </tr>\n",
       "  </thead>\n",
       "  <tbody>\n",
       "    <tr>\n",
       "      <th>12</th>\n",
       "      <td>building_windows_float_processed</td>\n",
       "      <td>building_windows_non_float_processed</td>\n",
       "    </tr>\n",
       "    <tr>\n",
       "      <th>194</th>\n",
       "      <td>headlamps</td>\n",
       "      <td>headlamps</td>\n",
       "    </tr>\n",
       "    <tr>\n",
       "      <th>208</th>\n",
       "      <td>headlamps</td>\n",
       "      <td>headlamps</td>\n",
       "    </tr>\n",
       "    <tr>\n",
       "      <th>43</th>\n",
       "      <td>building_windows_float_processed</td>\n",
       "      <td>building_windows_float_processed</td>\n",
       "    </tr>\n",
       "    <tr>\n",
       "      <th>82</th>\n",
       "      <td>building_windows_non_float_processed</td>\n",
       "      <td>vehicle_windows_float_processed</td>\n",
       "    </tr>\n",
       "    <tr>\n",
       "      <th>...</th>\n",
       "      <td>...</td>\n",
       "      <td>...</td>\n",
       "    </tr>\n",
       "    <tr>\n",
       "      <th>59</th>\n",
       "      <td>building_windows_float_processed</td>\n",
       "      <td>building_windows_float_processed</td>\n",
       "    </tr>\n",
       "    <tr>\n",
       "      <th>109</th>\n",
       "      <td>building_windows_non_float_processed</td>\n",
       "      <td>containers</td>\n",
       "    </tr>\n",
       "    <tr>\n",
       "      <th>22</th>\n",
       "      <td>building_windows_float_processed</td>\n",
       "      <td>building_windows_float_processed</td>\n",
       "    </tr>\n",
       "    <tr>\n",
       "      <th>46</th>\n",
       "      <td>building_windows_float_processed</td>\n",
       "      <td>building_windows_float_processed</td>\n",
       "    </tr>\n",
       "    <tr>\n",
       "      <th>122</th>\n",
       "      <td>building_windows_non_float_processed</td>\n",
       "      <td>building_windows_non_float_processed</td>\n",
       "    </tr>\n",
       "  </tbody>\n",
       "</table>\n",
       "<p>65 rows × 2 columns</p>\n",
       "</div>"
      ],
      "text/plain": [
       "                                   Actual  \\\n",
       "12       building_windows_float_processed   \n",
       "194                             headlamps   \n",
       "208                             headlamps   \n",
       "43       building_windows_float_processed   \n",
       "82   building_windows_non_float_processed   \n",
       "..                                    ...   \n",
       "59       building_windows_float_processed   \n",
       "109  building_windows_non_float_processed   \n",
       "22       building_windows_float_processed   \n",
       "46       building_windows_float_processed   \n",
       "122  building_windows_non_float_processed   \n",
       "\n",
       "                                Predicted  \n",
       "12   building_windows_non_float_processed  \n",
       "194                             headlamps  \n",
       "208                             headlamps  \n",
       "43       building_windows_float_processed  \n",
       "82        vehicle_windows_float_processed  \n",
       "..                                    ...  \n",
       "59       building_windows_float_processed  \n",
       "109                            containers  \n",
       "22       building_windows_float_processed  \n",
       "46       building_windows_float_processed  \n",
       "122  building_windows_non_float_processed  \n",
       "\n",
       "[65 rows x 2 columns]"
      ]
     },
     "execution_count": 58,
     "metadata": {},
     "output_type": "execute_result"
    }
   ],
   "source": [
    "# actual vs predicted\n",
    "df_test = pd.DataFrame({'Actual':y_test, 'Predicted':preds})\n",
    "df_test"
   ]
  },
  {
   "cell_type": "markdown",
   "id": "63cab737",
   "metadata": {},
   "source": [
    "__After using Smote accuarcy became 75% from 69% aand f1 score is also incresed to a value of 0.74__"
   ]
  }
 ],
 "metadata": {
  "kernelspec": {
   "display_name": "Python 3 (ipykernel)",
   "language": "python",
   "name": "python3"
  },
  "language_info": {
   "codemirror_mode": {
    "name": "ipython",
    "version": 3
   },
   "file_extension": ".py",
   "mimetype": "text/x-python",
   "name": "python",
   "nbconvert_exporter": "python",
   "pygments_lexer": "ipython3",
   "version": "3.9.7"
  }
 },
 "nbformat": 4,
 "nbformat_minor": 5
}
