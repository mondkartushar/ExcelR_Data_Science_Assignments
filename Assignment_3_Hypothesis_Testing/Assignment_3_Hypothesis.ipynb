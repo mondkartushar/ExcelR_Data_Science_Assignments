{
 "cells": [
  {
   "cell_type": "markdown",
   "id": "655b74d8",
   "metadata": {},
   "source": [
    "### ASSIGNMENT 3\n",
    "### Topic - Hypothesis Testing\n",
    "### By Tushar N. Mondkar (Batch of 27 March,Andheri)\n",
    "### Mentor - Jayantilal Sir"
   ]
  },
  {
   "cell_type": "markdown",
   "id": "00ff3cd6",
   "metadata": {},
   "source": [
    "Q 1) A F&B manager wants to determine whether there is any significant difference in the diameter of the cutlet between two units. A randomly selected sample of cutlets was collected from both units and measured? Analyze the data and draw inferences at 5% significance level. Please state the assumptions and tests that you carried out to check validity of the assumptions.!"
   ]
  },
  {
   "cell_type": "markdown",
   "id": "992aad20",
   "metadata": {},
   "source": [
    "__Ans__"
   ]
  },
  {
   "cell_type": "markdown",
   "id": "03bcbd64",
   "metadata": {},
   "source": [
    "### Consideration of hypothesis\n",
    "\n",
    "Null Hypothesis(H0) = mean1 == mean2  (There is no significant difference in diameter of cutlet between two units)\n",
    "\n",
    "Alternate Hypothesis(H1) = mean1 != mean2 (Significant difference exist in diameter of cutlet between two units)"
   ]
  },
  {
   "cell_type": "markdown",
   "id": "08617fc1",
   "metadata": {},
   "source": [
    "### Types of Test\n",
    "\n",
    "__Two sample, two tailed t test__\n",
    "\n",
    "#Two tailed test is selected as we are eqauting mean of two samples"
   ]
  },
  {
   "cell_type": "markdown",
   "id": "4694a1d0",
   "metadata": {},
   "source": [
    "### Level of significance\n",
    "\n",
    "LOS = 0.05"
   ]
  },
  {
   "cell_type": "markdown",
   "id": "247b1929",
   "metadata": {},
   "source": [
    "### t test"
   ]
  },
  {
   "cell_type": "code",
   "execution_count": 1,
   "id": "d426780e",
   "metadata": {
    "ExecuteTime": {
     "end_time": "2023-01-01T14:21:24.709477Z",
     "start_time": "2023-01-01T14:21:21.036072Z"
    }
   },
   "outputs": [],
   "source": [
    "import pandas as pd\n",
    "import scipy \n",
    "import numpy as np\n",
    "from scipy import stats"
   ]
  },
  {
   "cell_type": "code",
   "execution_count": 2,
   "id": "b25362e2",
   "metadata": {
    "ExecuteTime": {
     "end_time": "2023-01-01T14:21:24.757166Z",
     "start_time": "2023-01-01T14:21:24.712476Z"
    }
   },
   "outputs": [
    {
     "data": {
      "text/html": [
       "<div>\n",
       "<style scoped>\n",
       "    .dataframe tbody tr th:only-of-type {\n",
       "        vertical-align: middle;\n",
       "    }\n",
       "\n",
       "    .dataframe tbody tr th {\n",
       "        vertical-align: top;\n",
       "    }\n",
       "\n",
       "    .dataframe thead th {\n",
       "        text-align: right;\n",
       "    }\n",
       "</style>\n",
       "<table border=\"1\" class=\"dataframe\">\n",
       "  <thead>\n",
       "    <tr style=\"text-align: right;\">\n",
       "      <th></th>\n",
       "      <th>Unit A</th>\n",
       "      <th>Unit B</th>\n",
       "    </tr>\n",
       "  </thead>\n",
       "  <tbody>\n",
       "    <tr>\n",
       "      <th>0</th>\n",
       "      <td>6.8090</td>\n",
       "      <td>6.7703</td>\n",
       "    </tr>\n",
       "    <tr>\n",
       "      <th>1</th>\n",
       "      <td>6.4376</td>\n",
       "      <td>7.5093</td>\n",
       "    </tr>\n",
       "    <tr>\n",
       "      <th>2</th>\n",
       "      <td>6.9157</td>\n",
       "      <td>6.7300</td>\n",
       "    </tr>\n",
       "    <tr>\n",
       "      <th>3</th>\n",
       "      <td>7.3012</td>\n",
       "      <td>6.7878</td>\n",
       "    </tr>\n",
       "    <tr>\n",
       "      <th>4</th>\n",
       "      <td>7.4488</td>\n",
       "      <td>7.1522</td>\n",
       "    </tr>\n",
       "  </tbody>\n",
       "</table>\n",
       "</div>"
      ],
      "text/plain": [
       "   Unit A  Unit B\n",
       "0  6.8090  6.7703\n",
       "1  6.4376  7.5093\n",
       "2  6.9157  6.7300\n",
       "3  7.3012  6.7878\n",
       "4  7.4488  7.1522"
      ]
     },
     "execution_count": 2,
     "metadata": {},
     "output_type": "execute_result"
    }
   ],
   "source": [
    "data = pd.read_csv(\"cutlets.csv\")\n",
    "data.head()"
   ]
  },
  {
   "cell_type": "code",
   "execution_count": 3,
   "id": "760cd881",
   "metadata": {
    "ExecuteTime": {
     "end_time": "2023-01-01T14:21:33.266564Z",
     "start_time": "2023-01-01T14:21:33.252362Z"
    }
   },
   "outputs": [
    {
     "data": {
      "text/plain": [
       "Ttest_indResult(statistic=0.7228688704678063, pvalue=0.4722394724599501)"
      ]
     },
     "execution_count": 3,
     "metadata": {},
     "output_type": "execute_result"
    }
   ],
   "source": [
    "stats.ttest_ind(data['Unit A'],data['Unit B'])"
   ]
  },
  {
   "cell_type": "markdown",
   "id": "1b8f908a",
   "metadata": {},
   "source": [
    "### Conclusion\n",
    "\n",
    "p_value = 0.4722\n",
    "\n",
    "As p_value > LOS(0.05)\n",
    "\n",
    "__Null Hypothesis is NOT rejected__\n",
    "\n",
    "__There is no significant difference in diameter of cutlet between two units__"
   ]
  },
  {
   "cell_type": "markdown",
   "id": "88ecab6a",
   "metadata": {},
   "source": [
    " "
   ]
  },
  {
   "cell_type": "markdown",
   "id": "dd0c0203",
   "metadata": {},
   "source": [
    "Q 2)  A hospital wants to determine whether there is any difference in the average Turn Around Time (TAT) of reports of the laboratories on their preferred list. They collected a random sample and recorded TAT for reports of 4 laboratories. TAT is defined as sample collected to report dispatch.\n",
    "   \n",
    "Analyze the data and determine whether there is any difference in average TAT among the different laboratories at 5% significance level.\n",
    " \n"
   ]
  },
  {
   "cell_type": "markdown",
   "id": "b502d773",
   "metadata": {},
   "source": [
    "__Ans__"
   ]
  },
  {
   "cell_type": "markdown",
   "id": "c12760ee",
   "metadata": {},
   "source": [
    "### Consideration of hypothesis\n",
    "\n",
    "Null Hypothesis(H0) = m1 == m2 == m3 == m4 (There is no significant difference in average Turn around time)\n",
    "\n",
    "Alternate Hypothesis(H1) = mean are not same (Significant difference exist in Turn around time of the four labs)"
   ]
  },
  {
   "cell_type": "markdown",
   "id": "7ec8957f",
   "metadata": {},
   "source": [
    "### Types of Test\n",
    "\n",
    "__one way ANOVA test__\n",
    "\n",
    "#Due to presence of more than two samples one way ANOVA test is chosen"
   ]
  },
  {
   "cell_type": "markdown",
   "id": "9999a203",
   "metadata": {
    "ExecuteTime": {
     "end_time": "2022-05-20T17:45:30.361892Z",
     "start_time": "2022-05-20T17:45:30.346251Z"
    }
   },
   "source": [
    "### Level of significance\n",
    "\n",
    "LOS = 0.05"
   ]
  },
  {
   "cell_type": "markdown",
   "id": "f7e30413",
   "metadata": {
    "ExecuteTime": {
     "end_time": "2022-05-20T17:45:43.343670Z",
     "start_time": "2022-05-20T17:45:43.328045Z"
    }
   },
   "source": [
    "### One way anova test"
   ]
  },
  {
   "cell_type": "code",
   "execution_count": 4,
   "id": "55baba58",
   "metadata": {
    "ExecuteTime": {
     "end_time": "2023-01-01T14:24:25.104858Z",
     "start_time": "2023-01-01T14:24:25.098858Z"
    }
   },
   "outputs": [],
   "source": [
    "import pandas as pd\n",
    "import scipy.stats as stats\n",
    "import numpy as np\n"
   ]
  },
  {
   "cell_type": "code",
   "execution_count": 5,
   "id": "502bde51",
   "metadata": {
    "ExecuteTime": {
     "end_time": "2023-01-01T14:24:25.463638Z",
     "start_time": "2023-01-01T14:24:25.432533Z"
    }
   },
   "outputs": [
    {
     "data": {
      "text/html": [
       "<div>\n",
       "<style scoped>\n",
       "    .dataframe tbody tr th:only-of-type {\n",
       "        vertical-align: middle;\n",
       "    }\n",
       "\n",
       "    .dataframe tbody tr th {\n",
       "        vertical-align: top;\n",
       "    }\n",
       "\n",
       "    .dataframe thead th {\n",
       "        text-align: right;\n",
       "    }\n",
       "</style>\n",
       "<table border=\"1\" class=\"dataframe\">\n",
       "  <thead>\n",
       "    <tr style=\"text-align: right;\">\n",
       "      <th></th>\n",
       "      <th>Laboratory 1</th>\n",
       "      <th>Laboratory 2</th>\n",
       "      <th>Laboratory 3</th>\n",
       "      <th>Laboratory 4</th>\n",
       "    </tr>\n",
       "  </thead>\n",
       "  <tbody>\n",
       "    <tr>\n",
       "      <th>0</th>\n",
       "      <td>185.35</td>\n",
       "      <td>165.53</td>\n",
       "      <td>176.70</td>\n",
       "      <td>166.13</td>\n",
       "    </tr>\n",
       "    <tr>\n",
       "      <th>1</th>\n",
       "      <td>170.49</td>\n",
       "      <td>185.91</td>\n",
       "      <td>198.45</td>\n",
       "      <td>160.79</td>\n",
       "    </tr>\n",
       "    <tr>\n",
       "      <th>2</th>\n",
       "      <td>192.77</td>\n",
       "      <td>194.92</td>\n",
       "      <td>201.23</td>\n",
       "      <td>185.18</td>\n",
       "    </tr>\n",
       "    <tr>\n",
       "      <th>3</th>\n",
       "      <td>177.33</td>\n",
       "      <td>183.00</td>\n",
       "      <td>199.61</td>\n",
       "      <td>176.42</td>\n",
       "    </tr>\n",
       "    <tr>\n",
       "      <th>4</th>\n",
       "      <td>193.41</td>\n",
       "      <td>169.57</td>\n",
       "      <td>204.63</td>\n",
       "      <td>152.60</td>\n",
       "    </tr>\n",
       "  </tbody>\n",
       "</table>\n",
       "</div>"
      ],
      "text/plain": [
       "   Laboratory 1  Laboratory 2  Laboratory 3  Laboratory 4\n",
       "0        185.35        165.53        176.70        166.13\n",
       "1        170.49        185.91        198.45        160.79\n",
       "2        192.77        194.92        201.23        185.18\n",
       "3        177.33        183.00        199.61        176.42\n",
       "4        193.41        169.57        204.63        152.60"
      ]
     },
     "execution_count": 5,
     "metadata": {},
     "output_type": "execute_result"
    }
   ],
   "source": [
    "lab = pd.read_csv(\"LabTAT.csv\")\n",
    "lab.head()"
   ]
  },
  {
   "cell_type": "code",
   "execution_count": 6,
   "id": "ddfb401f",
   "metadata": {
    "ExecuteTime": {
     "end_time": "2023-01-01T14:24:26.164727Z",
     "start_time": "2023-01-01T14:24:26.149726Z"
    }
   },
   "outputs": [
    {
     "data": {
      "text/plain": [
       "F_onewayResult(statistic=118.70421654401437, pvalue=2.1156708949992414e-57)"
      ]
     },
     "execution_count": 6,
     "metadata": {},
     "output_type": "execute_result"
    }
   ],
   "source": [
    "stats.f_oneway(lab.iloc[:,0],lab.iloc[:,1],lab.iloc[:,2],lab.iloc[:,3])"
   ]
  },
  {
   "cell_type": "markdown",
   "id": "37e3fc5e",
   "metadata": {
    "ExecuteTime": {
     "end_time": "2022-05-20T17:53:18.600220Z",
     "start_time": "2022-05-20T17:53:18.584325Z"
    }
   },
   "source": [
    "### Conclusion\n",
    "\n",
    "p_value = 2.11e-57\n",
    "\n",
    "As p_value < LOS(0.05)\n",
    "\n",
    "__Null Hypothesis is rejected__\n",
    "\n",
    "__Significant difference exist in Turn around time of the four labs__\n"
   ]
  },
  {
   "cell_type": "markdown",
   "id": "59ec1838",
   "metadata": {},
   "source": [
    " "
   ]
  },
  {
   "attachments": {
    "image.png": {
     "image/png": "[encoded data removed]"
    }
   },
   "cell_type": "markdown",
   "id": "e3c51e57",
   "metadata": {},
   "source": [
    "Q 3)\n",
    "\n",
    "![image.png](attachment:image.png)"
   ]
  },
  {
   "cell_type": "markdown",
   "id": "9c5e5a36",
   "metadata": {},
   "source": [
    "__Ans__"
   ]
  },
  {
   "cell_type": "markdown",
   "id": "fdeb2918",
   "metadata": {},
   "source": [
    "### Consideration of hypothesis\n",
    "\n",
    "Null Hypothesis(H0) = The variables are independent, there is no relation between male-female buyer ratio\n",
    "\n",
    "Alternate Hypothesis(H1) = The variables are dependent, there is relation between male-female buyer ratio"
   ]
  },
  {
   "cell_type": "markdown",
   "id": "b4238053",
   "metadata": {},
   "source": [
    "### Types of Test\n",
    "\n",
    "__Chi-square test__\n",
    "\n",
    "#Chi square test is selected as more than one sample of multiple variables are present"
   ]
  },
  {
   "cell_type": "markdown",
   "id": "73b83b1b",
   "metadata": {
    "ExecuteTime": {
     "end_time": "2022-05-20T19:48:49.954819Z",
     "start_time": "2022-05-20T19:48:49.930808Z"
    }
   },
   "source": [
    "### Level of significance\n",
    "\n",
    "LOS = 0.05"
   ]
  },
  {
   "cell_type": "markdown",
   "id": "c2cbfe76",
   "metadata": {},
   "source": [
    "### Chi-square test"
   ]
  },
  {
   "cell_type": "code",
   "execution_count": 7,
   "id": "fb8234cc",
   "metadata": {
    "ExecuteTime": {
     "end_time": "2023-01-01T14:25:55.491254Z",
     "start_time": "2023-01-01T14:25:55.486257Z"
    }
   },
   "outputs": [],
   "source": [
    "import pandas as pd\n",
    "import numpy as np\n",
    "import scipy.stats as stat\n",
    "from scipy.stats import chi2_contingency"
   ]
  },
  {
   "cell_type": "code",
   "execution_count": 8,
   "id": "89e8ceac",
   "metadata": {
    "ExecuteTime": {
     "end_time": "2023-01-01T14:25:57.647969Z",
     "start_time": "2023-01-01T14:25:57.628620Z"
    }
   },
   "outputs": [
    {
     "data": {
      "text/html": [
       "<div>\n",
       "<style scoped>\n",
       "    .dataframe tbody tr th:only-of-type {\n",
       "        vertical-align: middle;\n",
       "    }\n",
       "\n",
       "    .dataframe tbody tr th {\n",
       "        vertical-align: top;\n",
       "    }\n",
       "\n",
       "    .dataframe thead th {\n",
       "        text-align: right;\n",
       "    }\n",
       "</style>\n",
       "<table border=\"1\" class=\"dataframe\">\n",
       "  <thead>\n",
       "    <tr style=\"text-align: right;\">\n",
       "      <th></th>\n",
       "      <th>Observed Values</th>\n",
       "      <th>East</th>\n",
       "      <th>West</th>\n",
       "      <th>North</th>\n",
       "      <th>South</th>\n",
       "    </tr>\n",
       "  </thead>\n",
       "  <tbody>\n",
       "    <tr>\n",
       "      <th>0</th>\n",
       "      <td>Males</td>\n",
       "      <td>50</td>\n",
       "      <td>142</td>\n",
       "      <td>131</td>\n",
       "      <td>70</td>\n",
       "    </tr>\n",
       "    <tr>\n",
       "      <th>1</th>\n",
       "      <td>Females</td>\n",
       "      <td>435</td>\n",
       "      <td>1523</td>\n",
       "      <td>1356</td>\n",
       "      <td>750</td>\n",
       "    </tr>\n",
       "  </tbody>\n",
       "</table>\n",
       "</div>"
      ],
      "text/plain": [
       "  Observed Values  East  West  North  South\n",
       "0           Males    50   142    131     70\n",
       "1         Females   435  1523   1356    750"
      ]
     },
     "execution_count": 8,
     "metadata": {},
     "output_type": "execute_result"
    }
   ],
   "source": [
    "data = pd.read_csv(\"BuyerRatio.csv\")\n",
    "data"
   ]
  },
  {
   "cell_type": "code",
   "execution_count": 9,
   "id": "3c5eff25",
   "metadata": {
    "ExecuteTime": {
     "end_time": "2023-01-01T14:26:06.132436Z",
     "start_time": "2023-01-01T14:26:06.116034Z"
    }
   },
   "outputs": [
    {
     "data": {
      "text/html": [
       "<div>\n",
       "<style scoped>\n",
       "    .dataframe tbody tr th:only-of-type {\n",
       "        vertical-align: middle;\n",
       "    }\n",
       "\n",
       "    .dataframe tbody tr th {\n",
       "        vertical-align: top;\n",
       "    }\n",
       "\n",
       "    .dataframe thead th {\n",
       "        text-align: right;\n",
       "    }\n",
       "</style>\n",
       "<table border=\"1\" class=\"dataframe\">\n",
       "  <thead>\n",
       "    <tr style=\"text-align: right;\">\n",
       "      <th></th>\n",
       "      <th>East</th>\n",
       "      <th>West</th>\n",
       "      <th>North</th>\n",
       "      <th>South</th>\n",
       "    </tr>\n",
       "  </thead>\n",
       "  <tbody>\n",
       "    <tr>\n",
       "      <th>0</th>\n",
       "      <td>50</td>\n",
       "      <td>142</td>\n",
       "      <td>131</td>\n",
       "      <td>70</td>\n",
       "    </tr>\n",
       "    <tr>\n",
       "      <th>1</th>\n",
       "      <td>435</td>\n",
       "      <td>1523</td>\n",
       "      <td>1356</td>\n",
       "      <td>750</td>\n",
       "    </tr>\n",
       "  </tbody>\n",
       "</table>\n",
       "</div>"
      ],
      "text/plain": [
       "   East  West  North  South\n",
       "0    50   142    131     70\n",
       "1   435  1523   1356    750"
      ]
     },
     "execution_count": 9,
     "metadata": {},
     "output_type": "execute_result"
    }
   ],
   "source": [
    "data.drop([\"Observed Values\"],inplace = True,axis =1)    #inplace = True replaces old data with new changes\n",
    "data"
   ]
  },
  {
   "cell_type": "code",
   "execution_count": 10,
   "id": "671ebe7d",
   "metadata": {
    "ExecuteTime": {
     "end_time": "2023-01-01T14:26:30.934131Z",
     "start_time": "2023-01-01T14:26:30.912935Z"
    }
   },
   "outputs": [
    {
     "name": "stdout",
     "output_type": "stream",
     "text": [
      "P_value for the test is 0.66\n"
     ]
    }
   ],
   "source": [
    "p_value = stat.chi2_contingency(data)[1]\n",
    "print(\"P_value for the test is\",np.round(p_value,3))"
   ]
  },
  {
   "cell_type": "markdown",
   "id": "336822d8",
   "metadata": {},
   "source": [
    "### Conclusion\n",
    "\n",
    "p_value = 0.66\n",
    "\n",
    "As p_value > LOS(0.05)\n",
    "\n",
    "__Null Hypothesis is not rejected__\n",
    "\n",
    "__The variables are independent, there is no relation between male-female buyer ratio__\n"
   ]
  },
  {
   "cell_type": "markdown",
   "id": "98276c20",
   "metadata": {},
   "source": [
    " "
   ]
  },
  {
   "cell_type": "markdown",
   "id": "fbe488e4",
   "metadata": {},
   "source": [
    "Q 4) TeleCall uses 4 centers around the globe to process customer order forms. They audit a certain %  of the customer order forms. Any error in order form renders it defective and has to be reworked before processing.  The manager wants to check whether the defective %  varies by centre. Please analyze the data at 5% significance level and help the manager draw appropriate inferences\n"
   ]
  },
  {
   "cell_type": "markdown",
   "id": "c58d9ff4",
   "metadata": {},
   "source": [
    "__Ans__"
   ]
  },
  {
   "cell_type": "markdown",
   "id": "1e56ebdb",
   "metadata": {},
   "source": [
    "### Consideration of hypothesis\n",
    "\n",
    "Null Hypothesis(H0) = The variables are independent, the defective % doesn't vary by centre\n",
    "\n",
    "Alternate Hypothesis(H1) = The variables are dependent,  the defective % varies by centre"
   ]
  },
  {
   "cell_type": "markdown",
   "id": "90786371",
   "metadata": {
    "ExecuteTime": {
     "end_time": "2022-05-20T20:12:38.982352Z",
     "start_time": "2022-05-20T20:12:38.958337Z"
    }
   },
   "source": [
    "### Types of Test\n",
    "\n",
    "__Chi-square test__\n",
    "\n",
    "#Chi square test is selected as more than one sample of multiple variables are present"
   ]
  },
  {
   "cell_type": "markdown",
   "id": "10af90fd",
   "metadata": {
    "ExecuteTime": {
     "end_time": "2022-05-20T20:21:28.229528Z",
     "start_time": "2022-05-20T20:21:28.221528Z"
    }
   },
   "source": [
    "### Level of significance\n",
    "\n",
    "LOS = 0.05\n"
   ]
  },
  {
   "cell_type": "markdown",
   "id": "69153d33",
   "metadata": {},
   "source": [
    "### Chi-square test"
   ]
  },
  {
   "cell_type": "code",
   "execution_count": 11,
   "id": "737759a4",
   "metadata": {
    "ExecuteTime": {
     "end_time": "2023-01-01T14:27:50.767502Z",
     "start_time": "2023-01-01T14:27:50.755375Z"
    }
   },
   "outputs": [],
   "source": [
    "import pandas as pd\n",
    "import numpy as np\n",
    "import scipy.stats as stat\n",
    "from scipy.stats import chi2_contingency"
   ]
  },
  {
   "cell_type": "code",
   "execution_count": 12,
   "id": "85361bfb",
   "metadata": {
    "ExecuteTime": {
     "end_time": "2023-01-01T14:27:52.706003Z",
     "start_time": "2023-01-01T14:27:52.679436Z"
    }
   },
   "outputs": [
    {
     "data": {
      "text/html": [
       "<div>\n",
       "<style scoped>\n",
       "    .dataframe tbody tr th:only-of-type {\n",
       "        vertical-align: middle;\n",
       "    }\n",
       "\n",
       "    .dataframe tbody tr th {\n",
       "        vertical-align: top;\n",
       "    }\n",
       "\n",
       "    .dataframe thead th {\n",
       "        text-align: right;\n",
       "    }\n",
       "</style>\n",
       "<table border=\"1\" class=\"dataframe\">\n",
       "  <thead>\n",
       "    <tr style=\"text-align: right;\">\n",
       "      <th></th>\n",
       "      <th>Phillippines</th>\n",
       "      <th>Indonesia</th>\n",
       "      <th>Malta</th>\n",
       "      <th>India</th>\n",
       "    </tr>\n",
       "  </thead>\n",
       "  <tbody>\n",
       "    <tr>\n",
       "      <th>0</th>\n",
       "      <td>Error Free</td>\n",
       "      <td>Error Free</td>\n",
       "      <td>Defective</td>\n",
       "      <td>Error Free</td>\n",
       "    </tr>\n",
       "    <tr>\n",
       "      <th>1</th>\n",
       "      <td>Error Free</td>\n",
       "      <td>Error Free</td>\n",
       "      <td>Error Free</td>\n",
       "      <td>Defective</td>\n",
       "    </tr>\n",
       "    <tr>\n",
       "      <th>2</th>\n",
       "      <td>Error Free</td>\n",
       "      <td>Defective</td>\n",
       "      <td>Defective</td>\n",
       "      <td>Error Free</td>\n",
       "    </tr>\n",
       "    <tr>\n",
       "      <th>3</th>\n",
       "      <td>Error Free</td>\n",
       "      <td>Error Free</td>\n",
       "      <td>Error Free</td>\n",
       "      <td>Error Free</td>\n",
       "    </tr>\n",
       "    <tr>\n",
       "      <th>4</th>\n",
       "      <td>Error Free</td>\n",
       "      <td>Error Free</td>\n",
       "      <td>Defective</td>\n",
       "      <td>Error Free</td>\n",
       "    </tr>\n",
       "  </tbody>\n",
       "</table>\n",
       "</div>"
      ],
      "text/plain": [
       "  Phillippines   Indonesia       Malta       India\n",
       "0   Error Free  Error Free   Defective  Error Free\n",
       "1   Error Free  Error Free  Error Free   Defective\n",
       "2   Error Free   Defective   Defective  Error Free\n",
       "3   Error Free  Error Free  Error Free  Error Free\n",
       "4   Error Free  Error Free   Defective  Error Free"
      ]
     },
     "execution_count": 12,
     "metadata": {},
     "output_type": "execute_result"
    }
   ],
   "source": [
    "tele = pd.read_csv(\"Costomer+OrderForm.csv\")\n",
    "tele.head()"
   ]
  },
  {
   "cell_type": "code",
   "execution_count": 13,
   "id": "6d6a950e",
   "metadata": {
    "ExecuteTime": {
     "end_time": "2023-01-01T14:27:58.454813Z",
     "start_time": "2023-01-01T14:27:58.433382Z"
    }
   },
   "outputs": [
    {
     "name": "stdout",
     "output_type": "stream",
     "text": [
      "Error Free    271\n",
      "Defective      29\n",
      "Name: Phillippines, dtype: int64 Error Free    267\n",
      "Defective      33\n",
      "Name: Indonesia, dtype: int64 Error Free    269\n",
      "Defective      31\n",
      "Name: Malta, dtype: int64 Error Free    280\n",
      "Defective      20\n",
      "Name: India, dtype: int64\n"
     ]
    }
   ],
   "source": [
    "print(tele[\"Phillippines\"].value_counts(),\n",
    "     tele[\"Indonesia\"].value_counts(),\n",
    "     tele[\"Malta\"].value_counts(),\n",
    "     tele[\"India\"].value_counts())"
   ]
  },
  {
   "cell_type": "code",
   "execution_count": 14,
   "id": "dfff4cba",
   "metadata": {
    "ExecuteTime": {
     "end_time": "2023-01-01T14:28:19.707842Z",
     "start_time": "2023-01-01T14:28:19.700317Z"
    }
   },
   "outputs": [
    {
     "data": {
      "text/plain": [
       "array([[271, 267, 269, 280],\n",
       "       [ 29,  33,  31,  20]])"
      ]
     },
     "execution_count": 14,
     "metadata": {},
     "output_type": "execute_result"
    }
   ],
   "source": [
    "array = np.array([[271,267,269,280],[29,33,31,20]])\n",
    "array"
   ]
  },
  {
   "cell_type": "code",
   "execution_count": 15,
   "id": "814569e9",
   "metadata": {
    "ExecuteTime": {
     "end_time": "2023-01-01T14:28:25.141089Z",
     "start_time": "2023-01-01T14:28:25.118750Z"
    }
   },
   "outputs": [
    {
     "name": "stdout",
     "output_type": "stream",
     "text": [
      "P_value for the test is 0.277\n"
     ]
    }
   ],
   "source": [
    "p_value = stat.chi2_contingency(array)[1]\n",
    "print(\"P_value for the test is\",np.round(p_value,3))"
   ]
  },
  {
   "cell_type": "markdown",
   "id": "657f2c29",
   "metadata": {},
   "source": [
    "### Conclusion\n",
    "\n",
    "p_value = 0.277\n",
    "\n",
    "As p_value > LOS(0.05)\n",
    "\n",
    "__Null Hypothesis is not rejected__\n",
    "\n",
    "__The variables are independent, the defective % doesn't vary by centre__\n"
   ]
  }
 ],
 "metadata": {
  "kernelspec": {
   "display_name": "Python 3 (ipykernel)",
   "language": "python",
   "name": "python3"
  },
  "language_info": {
   "codemirror_mode": {
    "name": "ipython",
    "version": 3
   },
   "file_extension": ".py",
   "mimetype": "text/x-python",
   "name": "python",
   "nbconvert_exporter": "python",
   "pygments_lexer": "ipython3",
   "version": "3.9.7"
  }
 },
 "nbformat": 4,
 "nbformat_minor": 5
}
